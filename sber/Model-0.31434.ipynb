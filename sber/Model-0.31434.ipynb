{
 "cells": [
  {
   "cell_type": "code",
   "execution_count": 17,
   "metadata": {
    "ExecuteTime": {
     "end_time": "2017-05-23T23:21:35.009137Z",
     "start_time": "2017-05-23T23:21:34.979172Z"
    },
    "run_control": {
     "frozen": false,
     "read_only": false
    },
    "scrolled": true
   },
   "outputs": [
    {
     "name": "stdout",
     "output_type": "stream",
     "text": [
      "The ipycache extension is already loaded. To reload it, use:\n",
      "  %reload_ext ipycache\n"
     ]
    }
   ],
   "source": [
    "%matplotlib inline\n",
    "%load_ext ipycache\n",
    "\n",
    "import pandas as pd\n",
    "import numpy as np\n",
    "import scipy\n",
    "import sklearn as sk\n",
    "import xgboost as xgb\n",
    "\n",
    "from eli5 import show_weights\n",
    "\n",
    "import seaborn as sns\n",
    "sns.set()\n",
    "\n",
    "import matplotlib.pyplot as plt"
   ]
  },
  {
   "cell_type": "code",
   "execution_count": 18,
   "metadata": {
    "ExecuteTime": {
     "end_time": "2017-05-23T23:21:36.966710Z",
     "start_time": "2017-05-23T23:21:36.959544Z"
    },
    "run_control": {
     "frozen": false,
     "read_only": false
    }
   },
   "outputs": [],
   "source": [
    "import math\n",
    "\n",
    "#A function to calculate Root Mean Squared Logarithmic Error (RMSLE)\n",
    "def rmsle(y, y_pred):\n",
    "    assert len(y) == len(y_pred)\n",
    "    terms_to_sum = [\n",
    "        (math.log(y_pred[i] + 1) - math.log(y[i] + 1)) ** 2.0 \n",
    "        for i,pred in enumerate(y_pred)\n",
    "    ]\n",
    "    return (sum(terms_to_sum) * (1.0/len(y))) ** 0.5\n",
    "\n",
    "def rmse(y, y_pred):\n",
    "    return np.sqrt(((y_pred - y) ** 2).mean())"
   ]
  },
  {
   "cell_type": "markdown",
   "metadata": {
    "ExecuteTime": {
     "end_time": "2017-05-07T09:44:28.610829Z",
     "start_time": "2017-05-07T12:44:28.607703+03:00"
    },
    "run_control": {
     "frozen": false,
     "read_only": false
    }
   },
   "source": [
    "# Препроцессинг фич"
   ]
  },
  {
   "cell_type": "code",
   "execution_count": 19,
   "metadata": {
    "ExecuteTime": {
     "end_time": "2017-05-23T23:21:41.270352Z",
     "start_time": "2017-05-23T23:21:39.183662Z"
    },
    "run_control": {
     "frozen": false,
     "read_only": false
    }
   },
   "outputs": [
    {
     "data": {
      "text/html": [
       "<div>\n",
       "<style>\n",
       "    .dataframe thead tr:only-child th {\n",
       "        text-align: right;\n",
       "    }\n",
       "\n",
       "    .dataframe thead th {\n",
       "        text-align: left;\n",
       "    }\n",
       "\n",
       "    .dataframe tbody tr th {\n",
       "        vertical-align: top;\n",
       "    }\n",
       "</style>\n",
       "<table border=\"1\" class=\"dataframe\">\n",
       "  <thead>\n",
       "    <tr style=\"text-align: right;\">\n",
       "      <th></th>\n",
       "      <th>id</th>\n",
       "      <th>timestamp</th>\n",
       "      <th>full_sq</th>\n",
       "      <th>life_sq</th>\n",
       "      <th>floor</th>\n",
       "      <th>max_floor</th>\n",
       "      <th>material</th>\n",
       "      <th>build_year</th>\n",
       "      <th>num_room</th>\n",
       "      <th>kitch_sq</th>\n",
       "      <th>...</th>\n",
       "      <th>cafe_count_5000_price_2500</th>\n",
       "      <th>cafe_count_5000_price_4000</th>\n",
       "      <th>cafe_count_5000_price_high</th>\n",
       "      <th>big_church_count_5000</th>\n",
       "      <th>church_count_5000</th>\n",
       "      <th>mosque_count_5000</th>\n",
       "      <th>leisure_count_5000</th>\n",
       "      <th>sport_count_5000</th>\n",
       "      <th>market_count_5000</th>\n",
       "      <th>price_doc</th>\n",
       "    </tr>\n",
       "  </thead>\n",
       "  <tbody>\n",
       "    <tr>\n",
       "      <th>0</th>\n",
       "      <td>1</td>\n",
       "      <td>2011-08-20</td>\n",
       "      <td>43</td>\n",
       "      <td>27.0</td>\n",
       "      <td>4.0</td>\n",
       "      <td>NaN</td>\n",
       "      <td>NaN</td>\n",
       "      <td>NaN</td>\n",
       "      <td>NaN</td>\n",
       "      <td>NaN</td>\n",
       "      <td>...</td>\n",
       "      <td>9</td>\n",
       "      <td>4</td>\n",
       "      <td>0</td>\n",
       "      <td>13</td>\n",
       "      <td>22</td>\n",
       "      <td>1</td>\n",
       "      <td>0</td>\n",
       "      <td>52</td>\n",
       "      <td>4</td>\n",
       "      <td>5850000</td>\n",
       "    </tr>\n",
       "    <tr>\n",
       "      <th>1</th>\n",
       "      <td>2</td>\n",
       "      <td>2011-08-23</td>\n",
       "      <td>34</td>\n",
       "      <td>19.0</td>\n",
       "      <td>3.0</td>\n",
       "      <td>NaN</td>\n",
       "      <td>NaN</td>\n",
       "      <td>NaN</td>\n",
       "      <td>NaN</td>\n",
       "      <td>NaN</td>\n",
       "      <td>...</td>\n",
       "      <td>15</td>\n",
       "      <td>3</td>\n",
       "      <td>0</td>\n",
       "      <td>15</td>\n",
       "      <td>29</td>\n",
       "      <td>1</td>\n",
       "      <td>10</td>\n",
       "      <td>66</td>\n",
       "      <td>14</td>\n",
       "      <td>6000000</td>\n",
       "    </tr>\n",
       "    <tr>\n",
       "      <th>2</th>\n",
       "      <td>3</td>\n",
       "      <td>2011-08-27</td>\n",
       "      <td>43</td>\n",
       "      <td>29.0</td>\n",
       "      <td>2.0</td>\n",
       "      <td>NaN</td>\n",
       "      <td>NaN</td>\n",
       "      <td>NaN</td>\n",
       "      <td>NaN</td>\n",
       "      <td>NaN</td>\n",
       "      <td>...</td>\n",
       "      <td>10</td>\n",
       "      <td>3</td>\n",
       "      <td>0</td>\n",
       "      <td>11</td>\n",
       "      <td>27</td>\n",
       "      <td>0</td>\n",
       "      <td>4</td>\n",
       "      <td>67</td>\n",
       "      <td>10</td>\n",
       "      <td>5700000</td>\n",
       "    </tr>\n",
       "    <tr>\n",
       "      <th>3</th>\n",
       "      <td>4</td>\n",
       "      <td>2011-09-01</td>\n",
       "      <td>89</td>\n",
       "      <td>50.0</td>\n",
       "      <td>9.0</td>\n",
       "      <td>NaN</td>\n",
       "      <td>NaN</td>\n",
       "      <td>NaN</td>\n",
       "      <td>NaN</td>\n",
       "      <td>NaN</td>\n",
       "      <td>...</td>\n",
       "      <td>11</td>\n",
       "      <td>2</td>\n",
       "      <td>1</td>\n",
       "      <td>4</td>\n",
       "      <td>4</td>\n",
       "      <td>0</td>\n",
       "      <td>0</td>\n",
       "      <td>26</td>\n",
       "      <td>3</td>\n",
       "      <td>13100000</td>\n",
       "    </tr>\n",
       "    <tr>\n",
       "      <th>4</th>\n",
       "      <td>5</td>\n",
       "      <td>2011-09-05</td>\n",
       "      <td>77</td>\n",
       "      <td>77.0</td>\n",
       "      <td>4.0</td>\n",
       "      <td>NaN</td>\n",
       "      <td>NaN</td>\n",
       "      <td>NaN</td>\n",
       "      <td>NaN</td>\n",
       "      <td>NaN</td>\n",
       "      <td>...</td>\n",
       "      <td>319</td>\n",
       "      <td>108</td>\n",
       "      <td>17</td>\n",
       "      <td>135</td>\n",
       "      <td>236</td>\n",
       "      <td>2</td>\n",
       "      <td>91</td>\n",
       "      <td>195</td>\n",
       "      <td>14</td>\n",
       "      <td>16331452</td>\n",
       "    </tr>\n",
       "  </tbody>\n",
       "</table>\n",
       "<p>5 rows × 292 columns</p>\n",
       "</div>"
      ],
      "text/plain": [
       "   id   timestamp  full_sq  life_sq  floor  max_floor  material  build_year  \\\n",
       "0   1  2011-08-20       43     27.0    4.0        NaN       NaN         NaN   \n",
       "1   2  2011-08-23       34     19.0    3.0        NaN       NaN         NaN   \n",
       "2   3  2011-08-27       43     29.0    2.0        NaN       NaN         NaN   \n",
       "3   4  2011-09-01       89     50.0    9.0        NaN       NaN         NaN   \n",
       "4   5  2011-09-05       77     77.0    4.0        NaN       NaN         NaN   \n",
       "\n",
       "   num_room  kitch_sq    ...      cafe_count_5000_price_2500  \\\n",
       "0       NaN       NaN    ...                               9   \n",
       "1       NaN       NaN    ...                              15   \n",
       "2       NaN       NaN    ...                              10   \n",
       "3       NaN       NaN    ...                              11   \n",
       "4       NaN       NaN    ...                             319   \n",
       "\n",
       "  cafe_count_5000_price_4000 cafe_count_5000_price_high  \\\n",
       "0                          4                          0   \n",
       "1                          3                          0   \n",
       "2                          3                          0   \n",
       "3                          2                          1   \n",
       "4                        108                         17   \n",
       "\n",
       "   big_church_count_5000  church_count_5000  mosque_count_5000  \\\n",
       "0                     13                 22                  1   \n",
       "1                     15                 29                  1   \n",
       "2                     11                 27                  0   \n",
       "3                      4                  4                  0   \n",
       "4                    135                236                  2   \n",
       "\n",
       "   leisure_count_5000  sport_count_5000  market_count_5000  price_doc  \n",
       "0                   0                52                  4    5850000  \n",
       "1                  10                66                 14    6000000  \n",
       "2                   4                67                 10    5700000  \n",
       "3                   0                26                  3   13100000  \n",
       "4                  91               195                 14   16331452  \n",
       "\n",
       "[5 rows x 292 columns]"
      ]
     },
     "execution_count": 19,
     "metadata": {},
     "output_type": "execute_result"
    }
   ],
   "source": [
    "# train_raw = pd.read_csv(\"data/train.csv\")\n",
    "train_raw = pd.read_csv(\"data/train_without_noise.csv\")\n",
    "test = pd.read_csv(\"data/test.csv\")\n",
    "macro = pd.read_csv(\"data/macro.csv\")\n",
    "train_raw.head()"
   ]
  },
  {
   "cell_type": "code",
   "execution_count": 20,
   "metadata": {
    "ExecuteTime": {
     "end_time": "2017-05-23T23:21:41.308145Z",
     "start_time": "2017-05-23T23:21:41.273373Z"
    },
    "run_control": {
     "frozen": false,
     "read_only": false
    }
   },
   "outputs": [],
   "source": [
    "def preprocess_anomaly(df):\n",
    "    df[\"full_sq\"] = map(lambda x: x if x > 10 else float(\"NaN\"), df[\"full_sq\"])\n",
    "    df[\"life_sq\"] = map(lambda x: x if x > 5 else float(\"NaN\"), df[\"life_sq\"])\n",
    "    df[\"kitch_sq\"] = map(lambda x: x if x > 2 else float(\"NaN\"), df[\"kitch_sq\"])\n",
    "    \n",
    "    # superclean\n",
    "    # https://www.kaggle.com/keremt/very-extensive-cleaning-by-sberbank-discussions\n",
    "    df.ix[df[df.life_sq > df.full_sq].index, \"life_sq\"] = np.NaN\n",
    "    df.ix[df[df.kitch_sq >= df.life_sq].index, \"kitch_sq\"] = np.NaN\n",
    "\n",
    "    df.ix[df[df.kitch_sq == 0].index, \"kitch_sq\"] = np.NaN\n",
    "    df.ix[df[df.kitch_sq == 1].index, \"kitch_sq\"] = np.NaN\n",
    "\n",
    "    df.ix[df[df.build_year < 1500].index, \"build_year\"] = np.NaN\n",
    "\n",
    "    df.ix[df[df.build_year > 1500].index, \"build_year\"] = np.NaN\n",
    "\n",
    "    df.ix[df[df.num_room == 0].index, \"num_room\"] = np.NaN\n",
    "    \n",
    "    df.ix[df[df.floor == 0].index, \"floor\"] = np.NaN\n",
    "    df.ix[df[df.max_floor == 0].index, \"max_floor\"] = np.NaN\n",
    "    \n",
    "    df.ix[df[df.floor > df.max_floor].index, \"max_floor\"] = np.NaN\n",
    "    \n",
    "    df.ix[df[df.state == 33].index, \"state\"] = np.NaN\n",
    "    return df"
   ]
  },
  {
   "cell_type": "code",
   "execution_count": 37,
   "metadata": {
    "ExecuteTime": {
     "end_time": "2017-05-23T23:48:25.000444Z",
     "start_time": "2017-05-23T23:48:24.927758Z"
    },
    "code_folding": [],
    "run_control": {
     "frozen": false,
     "read_only": false
    }
   },
   "outputs": [],
   "source": [
    "def preprocess_categorial(df):\n",
    "#     df = mess_y_categorial(df, 5)\n",
    "\n",
    "    for c in df.columns:\n",
    "        if df[c].dtype == 'object':\n",
    "            lbl = sk.preprocessing.LabelEncoder()\n",
    "            lbl.fit(list(train_raw[c].values) + list(test[c].values)) \n",
    "            df[c] = lbl.transform(list(df[c].values))\n",
    "\n",
    "    df = df.select_dtypes(exclude=['object'])\n",
    "    return df\n",
    "\n",
    "def apply_categorial(test, train):\n",
    "#     test = mess_y_categorial_fold(test, train)\n",
    "#     test = test.select_dtypes(exclude=['object'])\n",
    "    return preprocess_categorial(test)\n",
    "\n",
    "\n",
    "def smoothed_likelihood(targ_mean, nrows, globalmean, alpha=10):\n",
    "    try:\n",
    "        return (targ_mean * nrows + globalmean * alpha) / (nrows + alpha)\n",
    "    except Exception:\n",
    "        return float(\"NaN\")\n",
    "\n",
    "\n",
    "def mess_y_categorial(df, nfolds=3, alpha=10):\n",
    "    from sklearn.utils import shuffle\n",
    "    from copy import copy\n",
    "\n",
    "    folds = np.array_split(shuffle(df), nfolds)\n",
    "    newfolds = []\n",
    "    for i in range(nfolds):\n",
    "        fold = folds[i]\n",
    "\n",
    "        other_folds = copy(folds)\n",
    "        other_folds.pop(i)\n",
    "        other_fold = pd.concat(other_folds)\n",
    "\n",
    "        newfolds.append(mess_y_categorial_fold(fold, other_fold, alpha=10))\n",
    "\n",
    "    return pd.concat(newfolds)\n",
    "\n",
    "def mess_y_categorial_fold(fold_raw, other_fold, cols=None, y_col=\"price_doc\", alpha=10):\n",
    "    fold = fold_raw.copy()\n",
    "    if not cols:\n",
    "        cols = list(fold.select_dtypes(include=[\"object\"]).columns)\n",
    "    globalmean = other_fold[y_col].mean()\n",
    "    for c in cols:\n",
    "\n",
    "        target_mean = other_fold[[c, y_col]].groupby(c).mean().to_dict()[y_col]\n",
    "        nrows = other_fold[c].value_counts().to_dict()\n",
    "\n",
    "        fold[c + \"_sll\"] = fold[c].apply(\n",
    "            lambda x: smoothed_likelihood(target_mean.get(x), nrows.get(x), globalmean, alpha) if x else float(\"NaN\")\n",
    "        )\n",
    "    return fold"
   ]
  },
  {
   "cell_type": "code",
   "execution_count": 38,
   "metadata": {
    "ExecuteTime": {
     "end_time": "2017-05-23T23:48:25.708985Z",
     "start_time": "2017-05-23T23:48:25.697482Z"
    },
    "run_control": {
     "frozen": false,
     "read_only": false
    }
   },
   "outputs": [],
   "source": [
    "def apply_macro(df):\n",
    "    macro_cols = [\n",
    "        'timestamp', \"balance_trade\", \"balance_trade_growth\", \"eurrub\", \"average_provision_of_build_contract\",\n",
    "        \"micex_rgbi_tr\", \"micex_cbi_tr\", \"deposits_rate\", \"mortgage_value\", \"mortgage_rate\",\n",
    "        \"income_per_cap\", \"rent_price_4+room_bus\", \"museum_visitis_per_100_cap\", \"apartment_build\"\n",
    "    ]\n",
    "    return pd.merge(df, macro, on='timestamp', how='left')"
   ]
  },
  {
   "cell_type": "code",
   "execution_count": 39,
   "metadata": {
    "ExecuteTime": {
     "end_time": "2017-05-23T23:48:26.301025Z",
     "start_time": "2017-05-23T23:48:26.265458Z"
    },
    "run_control": {
     "frozen": false,
     "read_only": false
    }
   },
   "outputs": [],
   "source": [
    "def preprocess(df):\n",
    "    from sklearn.preprocessing import OneHotEncoder, FunctionTransformer\n",
    "    \n",
    "#     df = apply_macro(df)\n",
    "    \n",
    "#     df[\"timestamp_year\"] = df[\"timestamp\"].apply(lambda x: x.split(\"-\")[0])\n",
    "#     df[\"timestamp_month\"] = df[\"timestamp\"].apply(lambda x: x.split(\"-\")[1])\n",
    "#     df[\"timestamp_year_month\"] = df[\"timestamp\"].apply(lambda x: x.split(\"-\")[0] + \"-\" + x.split(\"-\")[1]) \n",
    "\n",
    "    ecology = [\"no data\", \"poor\", \"satisfactory\", \"good\", \"excellent\"]\n",
    "    df[\"ecology_index\"] = map(ecology.index, df[\"ecology\"].values)\n",
    "    \n",
    "    bool_feats = [\n",
    "        \"thermal_power_plant_raion\",\n",
    "        \"incineration_raion\",\n",
    "        \"oil_chemistry_raion\",\n",
    "        \"radiation_raion\",\n",
    "        \"railroad_terminal_raion\",\n",
    "        \"big_market_raion\",\n",
    "        \"nuclear_reactor_raion\",\n",
    "        \"detention_facility_raion\",\n",
    "        \"water_1line\",\n",
    "        \"big_road1_1line\",\n",
    "        \"railroad_1line\",\n",
    "        \"culture_objects_top_25\"\n",
    "    ]\n",
    "    for bf in bool_feats:\n",
    "        df[bf + \"_bool\"] = map(lambda x: x == \"yes\", df[bf].values)\n",
    "\n",
    "    df = preprocess_anomaly(df)\n",
    "\n",
    "    df['rel_floor'] = df['floor'] / df['max_floor'].astype(float)\n",
    "    df['rel_kitch_sq'] = df['kitch_sq'] / df['full_sq'].astype(float)\n",
    "    df['rel_life_sq'] = df['life_sq'] / df['full_sq'].astype(float)\n",
    "\n",
    "    df[\"material_cat\"] = df.material.fillna(0).astype(int).astype(str).replace(\"0\", \"\")\n",
    "    df[\"state_cat\"] = df.state.fillna(0).astype(int).astype(str).replace(\"0\", \"\")\n",
    "    df[\"num_room_cat\"] = df.num_room.fillna(0).astype(int).astype(str).replace(\"0\", \"\")\n",
    "\n",
    "    df = df.drop([\"id\", \"timestamp\"], axis=1)\n",
    "\n",
    "    return df"
   ]
  },
  {
   "cell_type": "code",
   "execution_count": 41,
   "metadata": {
    "ExecuteTime": {
     "end_time": "2017-05-23T23:48:31.505577Z",
     "start_time": "2017-05-23T23:48:30.501591Z"
    },
    "run_control": {
     "frozen": false,
     "read_only": false
    }
   },
   "outputs": [],
   "source": [
    "train_pr = preprocess(train_raw)\n",
    "train = preprocess_categorial(train_pr)\n",
    "# train = train.fillna(-1)\n",
    "\n",
    "X = train.drop([\"price_doc\"], axis=1)\n",
    "y = train[\"price_doc\"].values"
   ]
  },
  {
   "cell_type": "markdown",
   "metadata": {
    "run_control": {
     "frozen": false,
     "read_only": false
    }
   },
   "source": [
    "# Обучение моделей"
   ]
  },
  {
   "cell_type": "code",
   "execution_count": 42,
   "metadata": {
    "ExecuteTime": {
     "end_time": "2017-05-23T23:48:37.247119Z",
     "start_time": "2017-05-23T23:48:31.621085Z"
    },
    "run_control": {
     "frozen": false,
     "read_only": false
    }
   },
   "outputs": [],
   "source": [
    "from sklearn.model_selection import train_test_split\n",
    "\n",
    "X_train, X_val, y_train, y_val = train_test_split(X.values, y, test_size=0.20, random_state=43)\n",
    "\n",
    "dtrain_all = xgb.DMatrix(X.values, y, feature_names=X.columns)\n",
    "dtrain = xgb.DMatrix(X_train, y_train, feature_names=X.columns)\n",
    "dval = xgb.DMatrix(X_val, y_val, feature_names=X.columns)"
   ]
  },
  {
   "cell_type": "code",
   "execution_count": 43,
   "metadata": {
    "ExecuteTime": {
     "end_time": "2017-05-23T23:53:25.757553Z",
     "start_time": "2017-05-23T23:48:37.250166Z"
    },
    "run_control": {
     "frozen": false,
     "read_only": false
    }
   },
   "outputs": [
    {
     "name": "stdout",
     "output_type": "stream",
     "text": [
      "[0]\tval-rmse:8.28101e+06\n",
      "Will train until val-rmse hasn't improved in 40 rounds.\n",
      "[40]\tval-rmse:5.9672e+06\n",
      "[80]\tval-rmse:4.52525e+06\n",
      "[120]\tval-rmse:3.67436e+06\n",
      "[160]\tval-rmse:3.20598e+06\n",
      "[200]\tval-rmse:2.95497e+06\n",
      "[240]\tval-rmse:2.82e+06\n",
      "[280]\tval-rmse:2.74392e+06\n",
      "[320]\tval-rmse:2.70376e+06\n",
      "[360]\tval-rmse:2.67989e+06\n",
      "[400]\tval-rmse:2.66425e+06\n",
      "[440]\tval-rmse:2.6541e+06\n",
      "[480]\tval-rmse:2.64534e+06\n",
      "[520]\tval-rmse:2.63860e+06\n",
      "[560]\tval-rmse:2.63046e+06\n",
      "[600]\tval-rmse:2.62637e+06\n",
      "[640]\tval-rmse:2.62211e+06\n",
      "[680]\tval-rmse:2.61746e+06\n",
      "[720]\tval-rmse:2.61364e+06\n",
      "[760]\tval-rmse:2.61086e+06\n",
      "[800]\tval-rmse:2.60873e+06\n",
      "[840]\tval-rmse:2.60563e+06\n",
      "[880]\tval-rmse:2.60277e+06\n",
      "[920]\tval-rmse:2.60014e+06\n",
      "[960]\tval-rmse:2.59738e+06\n",
      "[1000]\tval-rmse:2.59514e+06\n",
      "[1040]\tval-rmse:2.59305e+06\n",
      "[1080]\tval-rmse:2.59082e+06\n",
      "[1120]\tval-rmse:2.58863e+06\n",
      "[1160]\tval-rmse:2.5872e+06\n",
      "[1200]\tval-rmse:2.58576e+06\n",
      "[1240]\tval-rmse:2.58395e+06\n",
      "[1280]\tval-rmse:2.58229e+06\n",
      "[1320]\tval-rmse:2.58091e+06\n",
      "[1360]\tval-rmse:2.57875e+06\n",
      "[1400]\tval-rmse:2.57764e+06\n",
      "[1440]\tval-rmse:2.57636e+06\n",
      "[1480]\tval-rmse:2.57466e+06\n",
      "[1520]\tval-rmse:2.57359e+06\n",
      "[1560]\tval-rmse:2.5725e+06\n",
      "[1600]\tval-rmse:2.57148e+06\n",
      "[1640]\tval-rmse:2.57019e+06\n",
      "[1680]\tval-rmse:2.56977e+06\n",
      "[1720]\tval-rmse:2.56893e+06\n",
      "[1760]\tval-rmse:2.56823e+06\n",
      "[1800]\tval-rmse:2.56809e+06\n",
      "[1840]\tval-rmse:2.56765e+06\n",
      "[1880]\tval-rmse:2.56748e+06\n",
      "[1920]\tval-rmse:2.56669e+06\n",
      "[1960]\tval-rmse:2.56621e+06\n",
      "[2000]\tval-rmse:2.56548e+06\n",
      "[2040]\tval-rmse:2.56502e+06\n",
      "[2080]\tval-rmse:2.56526e+06\n",
      "Stopping. Best iteration:\n",
      "[2042]\tval-rmse:2.56494e+06\n",
      "\n"
     ]
    }
   ],
   "source": [
    "xgb_params = {\n",
    "    'max_depth': 5,\n",
    "    'n_estimators': 200,\n",
    "    'learning_rate': 0.01,\n",
    "    'objective': 'reg:linear',\n",
    "    'eval_metric': 'rmse',\n",
    "    'silent': 1\n",
    "}\n",
    "\n",
    "# Uncomment to tune XGB `num_boost_rounds`\n",
    "model = xgb.train(xgb_params, dtrain, num_boost_round=4000, evals=[(dval, 'val')],\n",
    "                  early_stopping_rounds=40, verbose_eval=40)\n",
    "\n",
    "num_boost_round = model.best_iteration"
   ]
  },
  {
   "cell_type": "code",
   "execution_count": 44,
   "metadata": {
    "ExecuteTime": {
     "end_time": "2017-05-23T23:58:59.051673Z",
     "start_time": "2017-05-23T23:53:25.762157Z"
    },
    "run_control": {
     "frozen": false,
     "read_only": false
    }
   },
   "outputs": [
    {
     "name": "stdout",
     "output_type": "stream",
     "text": [
      "[0]\ttrain-rmse:8.41652e+06+41855.1\ttest-rmse:8.41738e+06+84637.2\n",
      "[40]\ttrain-rmse:6.03464e+06+30061.6\ttest-rmse:6.08904e+06+72461.4\n",
      "[80]\ttrain-rmse:4.52836e+06+25723.2\ttest-rmse:4.65191e+06+68243\n",
      "[120]\ttrain-rmse:3.60111e+06+26054.8\ttest-rmse:3.80062e+06+64695\n",
      "[160]\ttrain-rmse:3.04323e+06+26940\ttest-rmse:3.32263e+06+68157.9\n",
      "[200]\ttrain-rmse:2.71488e+06+27223.9\ttest-rmse:3.06315e+06+69270.3\n",
      "[240]\ttrain-rmse:2.5176e+06+26093.6\ttest-rmse:2.92318e+06+66330.6\n",
      "[280]\ttrain-rmse:2.39955e+06+23368.6\ttest-rmse:2.84928e+06+66488.7\n",
      "[320]\ttrain-rmse:2.32403e+06+21979\ttest-rmse:2.80575e+06+67530.8\n",
      "[360]\ttrain-rmse:2.2727e+06+20888.1\ttest-rmse:2.77913e+06+68534.1\n",
      "[400]\ttrain-rmse:2.23188e+06+20350.9\ttest-rmse:2.76139e+06+68714.3\n",
      "[440]\ttrain-rmse:2.19573e+06+19302.3\ttest-rmse:2.74886e+06+68376.3\n",
      "[480]\ttrain-rmse:2.16652e+06+20289.7\ttest-rmse:2.73983e+06+68790.6\n",
      "[520]\ttrain-rmse:2.14135e+06+18704.5\ttest-rmse:2.73268e+06+69483.4\n",
      "[560]\ttrain-rmse:2.12125e+06+19128.8\ttest-rmse:2.72623e+06+69241.9\n",
      "[600]\ttrain-rmse:2.10378e+06+20209.3\ttest-rmse:2.72155e+06+69332\n",
      "[640]\ttrain-rmse:2.08785e+06+20134.8\ttest-rmse:2.71783e+06+70146.4\n",
      "[680]\ttrain-rmse:2.07368e+06+20387.8\ttest-rmse:2.7154e+06+71216.9\n",
      "[720]\ttrain-rmse:2.06074e+06+20393.7\ttest-rmse:2.7129e+06+72164.4\n",
      "[760]\ttrain-rmse:2.04855e+06+20833.2\ttest-rmse:2.71043e+06+72964.4\n",
      "[800]\ttrain-rmse:2.03697e+06+20672\ttest-rmse:2.70838e+06+73755.8\n",
      "[840]\ttrain-rmse:2.02488e+06+20152.7\ttest-rmse:2.70665e+06+74577.2\n",
      "[880]\ttrain-rmse:2.01315e+06+19538.6\ttest-rmse:2.70508e+06+75573.1\n",
      "[920]\ttrain-rmse:2.00307e+06+19507.6\ttest-rmse:2.70409e+06+76502.9\n"
     ]
    },
    {
     "ename": "KeyboardInterrupt",
     "evalue": "",
     "output_type": "error",
     "traceback": [
      "\u001b[0;31m---------------------------------------------------------------------------\u001b[0m",
      "\u001b[0;31mKeyboardInterrupt\u001b[0m                         Traceback (most recent call last)",
      "\u001b[0;32m<ipython-input-44-eb47ecc13c7e>\u001b[0m in \u001b[0;36m<module>\u001b[0;34m()\u001b[0m\n\u001b[0;32m----> 1\u001b[0;31m \u001b[0mcv_output\u001b[0m \u001b[0;34m=\u001b[0m \u001b[0mxgb\u001b[0m\u001b[0;34m.\u001b[0m\u001b[0mcv\u001b[0m\u001b[0;34m(\u001b[0m\u001b[0mdict\u001b[0m\u001b[0;34m(\u001b[0m\u001b[0mxgb_params\u001b[0m\u001b[0;34m,\u001b[0m \u001b[0msilent\u001b[0m\u001b[0;34m=\u001b[0m\u001b[0;36m0\u001b[0m\u001b[0;34m)\u001b[0m\u001b[0;34m,\u001b[0m \u001b[0mdtrain_all\u001b[0m\u001b[0;34m,\u001b[0m \u001b[0mnum_boost_round\u001b[0m\u001b[0;34m=\u001b[0m\u001b[0mnum_boost_round\u001b[0m\u001b[0;34m,\u001b[0m \u001b[0mverbose_eval\u001b[0m\u001b[0;34m=\u001b[0m\u001b[0;36m40\u001b[0m\u001b[0;34m)\u001b[0m\u001b[0;34m\u001b[0m\u001b[0m\n\u001b[0m\u001b[1;32m      2\u001b[0m \u001b[0mcv_output\u001b[0m\u001b[0;34m[\u001b[0m\u001b[0;34m[\u001b[0m\u001b[0;34m'train-rmse-mean'\u001b[0m\u001b[0;34m,\u001b[0m \u001b[0;34m'test-rmse-mean'\u001b[0m\u001b[0;34m]\u001b[0m\u001b[0;34m]\u001b[0m\u001b[0;34m.\u001b[0m\u001b[0mplot\u001b[0m\u001b[0;34m(\u001b[0m\u001b[0;34m)\u001b[0m\u001b[0;34m\u001b[0m\u001b[0m\n",
      "\u001b[0;32m/Users/evgeny/Library/Python/2.7/lib/python/site-packages/xgboost/training.pyc\u001b[0m in \u001b[0;36mcv\u001b[0;34m(params, dtrain, num_boost_round, nfold, stratified, folds, metrics, obj, feval, maximize, early_stopping_rounds, fpreproc, as_pandas, verbose_eval, show_stdv, seed, callbacks)\u001b[0m\n\u001b[1;32m    398\u001b[0m                            evaluation_result_list=None))\n\u001b[1;32m    399\u001b[0m         \u001b[0;32mfor\u001b[0m \u001b[0mfold\u001b[0m \u001b[0;32min\u001b[0m \u001b[0mcvfolds\u001b[0m\u001b[0;34m:\u001b[0m\u001b[0;34m\u001b[0m\u001b[0m\n\u001b[0;32m--> 400\u001b[0;31m             \u001b[0mfold\u001b[0m\u001b[0;34m.\u001b[0m\u001b[0mupdate\u001b[0m\u001b[0;34m(\u001b[0m\u001b[0mi\u001b[0m\u001b[0;34m,\u001b[0m \u001b[0mobj\u001b[0m\u001b[0;34m)\u001b[0m\u001b[0;34m\u001b[0m\u001b[0m\n\u001b[0m\u001b[1;32m    401\u001b[0m         \u001b[0mres\u001b[0m \u001b[0;34m=\u001b[0m \u001b[0maggcv\u001b[0m\u001b[0;34m(\u001b[0m\u001b[0;34m[\u001b[0m\u001b[0mf\u001b[0m\u001b[0;34m.\u001b[0m\u001b[0meval\u001b[0m\u001b[0;34m(\u001b[0m\u001b[0mi\u001b[0m\u001b[0;34m,\u001b[0m \u001b[0mfeval\u001b[0m\u001b[0;34m)\u001b[0m \u001b[0;32mfor\u001b[0m \u001b[0mf\u001b[0m \u001b[0;32min\u001b[0m \u001b[0mcvfolds\u001b[0m\u001b[0;34m]\u001b[0m\u001b[0;34m)\u001b[0m\u001b[0;34m\u001b[0m\u001b[0m\n\u001b[1;32m    402\u001b[0m \u001b[0;34m\u001b[0m\u001b[0m\n",
      "\u001b[0;32m/Users/evgeny/Library/Python/2.7/lib/python/site-packages/xgboost/training.pyc\u001b[0m in \u001b[0;36mupdate\u001b[0;34m(self, iteration, fobj)\u001b[0m\n\u001b[1;32m    217\u001b[0m     \u001b[0;32mdef\u001b[0m \u001b[0mupdate\u001b[0m\u001b[0;34m(\u001b[0m\u001b[0mself\u001b[0m\u001b[0;34m,\u001b[0m \u001b[0miteration\u001b[0m\u001b[0;34m,\u001b[0m \u001b[0mfobj\u001b[0m\u001b[0;34m)\u001b[0m\u001b[0;34m:\u001b[0m\u001b[0;34m\u001b[0m\u001b[0m\n\u001b[1;32m    218\u001b[0m         \u001b[0;34m\"\"\"\"Update the boosters for one iteration\"\"\"\u001b[0m\u001b[0;34m\u001b[0m\u001b[0m\n\u001b[0;32m--> 219\u001b[0;31m         \u001b[0mself\u001b[0m\u001b[0;34m.\u001b[0m\u001b[0mbst\u001b[0m\u001b[0;34m.\u001b[0m\u001b[0mupdate\u001b[0m\u001b[0;34m(\u001b[0m\u001b[0mself\u001b[0m\u001b[0;34m.\u001b[0m\u001b[0mdtrain\u001b[0m\u001b[0;34m,\u001b[0m \u001b[0miteration\u001b[0m\u001b[0;34m,\u001b[0m \u001b[0mfobj\u001b[0m\u001b[0;34m)\u001b[0m\u001b[0;34m\u001b[0m\u001b[0m\n\u001b[0m\u001b[1;32m    220\u001b[0m \u001b[0;34m\u001b[0m\u001b[0m\n\u001b[1;32m    221\u001b[0m     \u001b[0;32mdef\u001b[0m \u001b[0meval\u001b[0m\u001b[0;34m(\u001b[0m\u001b[0mself\u001b[0m\u001b[0;34m,\u001b[0m \u001b[0miteration\u001b[0m\u001b[0;34m,\u001b[0m \u001b[0mfeval\u001b[0m\u001b[0;34m)\u001b[0m\u001b[0;34m:\u001b[0m\u001b[0;34m\u001b[0m\u001b[0m\n",
      "\u001b[0;32m/Users/evgeny/Library/Python/2.7/lib/python/site-packages/xgboost/core.pyc\u001b[0m in \u001b[0;36mupdate\u001b[0;34m(self, dtrain, iteration, fobj)\u001b[0m\n\u001b[1;32m    804\u001b[0m \u001b[0;34m\u001b[0m\u001b[0m\n\u001b[1;32m    805\u001b[0m         \u001b[0;32mif\u001b[0m \u001b[0mfobj\u001b[0m \u001b[0;32mis\u001b[0m \u001b[0mNone\u001b[0m\u001b[0;34m:\u001b[0m\u001b[0;34m\u001b[0m\u001b[0m\n\u001b[0;32m--> 806\u001b[0;31m             \u001b[0m_check_call\u001b[0m\u001b[0;34m(\u001b[0m\u001b[0m_LIB\u001b[0m\u001b[0;34m.\u001b[0m\u001b[0mXGBoosterUpdateOneIter\u001b[0m\u001b[0;34m(\u001b[0m\u001b[0mself\u001b[0m\u001b[0;34m.\u001b[0m\u001b[0mhandle\u001b[0m\u001b[0;34m,\u001b[0m \u001b[0miteration\u001b[0m\u001b[0;34m,\u001b[0m \u001b[0mdtrain\u001b[0m\u001b[0;34m.\u001b[0m\u001b[0mhandle\u001b[0m\u001b[0;34m)\u001b[0m\u001b[0;34m)\u001b[0m\u001b[0;34m\u001b[0m\u001b[0m\n\u001b[0m\u001b[1;32m    807\u001b[0m         \u001b[0;32melse\u001b[0m\u001b[0;34m:\u001b[0m\u001b[0;34m\u001b[0m\u001b[0m\n\u001b[1;32m    808\u001b[0m             \u001b[0mpred\u001b[0m \u001b[0;34m=\u001b[0m \u001b[0mself\u001b[0m\u001b[0;34m.\u001b[0m\u001b[0mpredict\u001b[0m\u001b[0;34m(\u001b[0m\u001b[0mdtrain\u001b[0m\u001b[0;34m)\u001b[0m\u001b[0;34m\u001b[0m\u001b[0m\n",
      "\u001b[0;31mKeyboardInterrupt\u001b[0m: "
     ]
    }
   ],
   "source": [
    "cv_output = xgb.cv(dict(xgb_params, silent=0), dtrain_all, num_boost_round=num_boost_round, verbose_eval=40)\n",
    "cv_output[['train-rmse-mean', 'test-rmse-mean']].plot()"
   ]
  },
  {
   "cell_type": "code",
   "execution_count": 45,
   "metadata": {
    "ExecuteTime": {
     "end_time": "2017-05-24T00:05:16.796986Z",
     "start_time": "2017-05-23T23:59:02.425271Z"
    },
    "run_control": {
     "frozen": false,
     "read_only": false
    }
   },
   "outputs": [
    {
     "name": "stdout",
     "output_type": "stream",
     "text": [
      "predict-train: 1923466.41923\n"
     ]
    }
   ],
   "source": [
    "model = xgb.train(dict(xgb_params, silent=0), dtrain_all, num_boost_round=num_boost_round, verbose_eval=40)\n",
    "print \"predict-train:\", rmse(model.predict(dtrain_all), y)"
   ]
  },
  {
   "cell_type": "code",
   "execution_count": null,
   "metadata": {
    "ExecuteTime": {
     "end_time": "2017-05-20T14:28:48.550689Z",
     "start_time": "2017-05-20T14:28:21.838922Z"
    },
    "run_control": {
     "frozen": true,
     "read_only": true
    }
   },
   "outputs": [],
   "source": [
    "model = xgb.XGBRegressor(max_depth=5, n_estimators=100, learning_rate=0.01, nthread=-1, silent=False)\n",
    "model.fit(X.values, y, verbose=20)\n",
    "\n",
    "with open(\"scores.tsv\", \"a\") as sf:\n",
    "    sf.write(\"%s\\n\" % rmsle(model.predict(X.values), y))\n",
    "\n",
    "!tail scores.tsv"
   ]
  },
  {
   "cell_type": "code",
   "execution_count": null,
   "metadata": {
    "ExecuteTime": {
     "end_time": "2017-05-20T18:49:57.534660Z",
     "start_time": "2017-05-20T18:49:57.431480Z"
    },
    "run_control": {
     "frozen": true,
     "read_only": true
    }
   },
   "outputs": [],
   "source": [
    "show_weights(model, feature_names=list(X.columns), importance_type=\"weight\")"
   ]
  },
  {
   "cell_type": "code",
   "execution_count": null,
   "metadata": {
    "ExecuteTime": {
     "end_time": "2017-05-20T13:46:19.726093Z",
     "start_time": "2017-05-20T13:36:05.585499Z"
    },
    "run_control": {
     "frozen": true,
     "read_only": true
    },
    "scrolled": true
   },
   "outputs": [],
   "source": [
    "from sklearn.model_selection import cross_val_score\n",
    "from sklearn.metrics import make_scorer\n",
    "\n",
    "def validate(clf):c\n",
    "    cval = np.abs(cross_val_score(clf, X.values, y, cv=3, \n",
    "                                  scoring=make_scorer(rmsle, False), verbose=2))\n",
    "    return np.mean(cval), cval\n",
    "\n",
    "print validate(model)"
   ]
  },
  {
   "cell_type": "markdown",
   "metadata": {
    "run_control": {
     "frozen": false,
     "read_only": false
    }
   },
   "source": [
    "# Submission"
   ]
  },
  {
   "cell_type": "code",
   "execution_count": 46,
   "metadata": {
    "ExecuteTime": {
     "end_time": "2017-05-24T00:05:18.684715Z",
     "start_time": "2017-05-24T00:05:16.799630Z"
    },
    "run_control": {
     "frozen": false,
     "read_only": false
    }
   },
   "outputs": [
    {
     "name": "stdout",
     "output_type": "stream",
     "text": [
      "id,price_doc\r\n",
      "30474,5449376.0\r\n",
      "30475,8106252.0\r\n",
      "30476,5591976.0\r\n",
      "30477,6180818.0\r\n",
      "30478,5165608.5\r\n",
      "30479,8126853.0\r\n",
      "30480,4380783.5\r\n",
      "30481,3898090.25\r\n",
      "30482,4637226.5\r\n"
     ]
    }
   ],
   "source": [
    "test_pr = preprocess(test)\n",
    "test_pr = apply_categorial(test_pr, train_pr)\n",
    "# test_pr = test_pr.fillna(-1)\n",
    "\n",
    "dtest = xgb.DMatrix(test_pr.values, feature_names=test_pr.columns)\n",
    "y_pred = model.predict(dtest)\n",
    "\n",
    "# y_pred = model.predict(test_pr.values)\n",
    "\n",
    "# y_pred = np.exp(y_pred) - 1\n",
    "\n",
    "submdf = pd.DataFrame({\"id\": test[\"id\"], \"price_doc\": y_pred})\n",
    "submdf.to_csv(\"data/submission.csv\", header=True, index=False)\n",
    "!head data/submission.csv"
   ]
  },
  {
   "cell_type": "markdown",
   "metadata": {
    "run_control": {
     "frozen": false,
     "read_only": false
    }
   },
   "source": [
    "without noise xgb logarithmic y\n",
    "\n",
    "    val-rmse:0.478924\n",
    "\n",
    "macro 10*400\n",
    "    \n",
    "    val-rmse:0.480618\n",
    "\n",
    "macro 5*200\n",
    "\n",
    "    val-rmse:0.476849\n",
    "\n",
    "macro 5*200 no month and year\n",
    "\n",
    "    val-rmse:0.477861\n",
    "\n",
    "macro 5*200 no month and year\n",
    "    \n",
    "    val-rmse:0.473012\n",
    "\n",
    "macro 5*200 no month and year\n",
    "\n",
    "    val-rmse:0.471758\n",
    "    predict-train: 0.427215115875\n",
    "\n",
    "macro 5*200 no month and year, train_without_noise\n",
    "\n",
    "    val-rmse:0.461684\n",
    "    train-rmse:0.411116+0.00299259\ttest-rmse:0.472202+0.00166791\n",
    "    predict-train: 0.423849149218\n",
    "    kaggle: 0.36027\n",
    "\n",
    "5*200, no macro no add features, train_without_noise:\n",
    "    \n",
    "    val-rmse:0.471989\n",
    "    train-rmse:0.425924+0.00643495\ttest-rmse:0.473873+0.0131213\n",
    "    predict-train: 0.43508730101\n",
    "\n",
    "5*200, no macro add rel features, train_without_noise:\n",
    "\n",
    "    val-rmse:0.471808\n",
    "    train-rmse:0.425264+0.00595741\ttest-rmse:0.47383+0.0130655\n",
    "    predict-train: 0.435635092773\n",
    "    kaggle: 0.32837\n",
    "\n",
    "5*200, no macro, add rel features, no log price, train_without_noise:\n",
    "    \n",
    "    val-rmse:2.63772e+06\n",
    "    train-rmse:1.9989e+06+10986.4\ttest-rmse:2.69158e+06+53020\n",
    "    predict-train: 2076010.27131\n",
    "    kaggle: 0.31720\n",
    "\n",
    "5*200, no macro, add rel features, no log price, train_with_noise:\n",
    "\n",
    "    val-rmse:2.53378e+06\n",
    "    train-rmse:1.95069e+06+16166.4\ttest-rmse:2.69703e+06+61455.1\n",
    "    predict-train: 2054421.59869\n",
    "    kaggle: 0.32056\n",
    "\n",
    "5*200, macro, add rel features, no log price, train_without_noise:\n",
    "    \n",
    "    val-rmse:2.79632e+06\n",
    "    train-rmse:1.81015e+06+19781.2\ttest-rmse:2.6641e+06+123875\n",
    "    predict-train: 1904063.27368\n",
    "    kaggle: 0.32976\n",
    "\n",
    "5*200, no macro, add rel features, no log price, train_without_noise:\n",
    "    \n",
    "    val-rmse:2.61682e+06\n",
    "    train-rmse:1.81123e+06+27681.2\ttest-rmse:2.66923e+06+53925.7\n",
    "    predict-train: 1899129.43771\n",
    "    kaggle: 0.31592\n",
    "\n",
    "5*200, no macro, add rel features, no log price, train_without_noise, 4000 iter:\n",
    "\n",
    "    val-rmse:2.61055e+06\n",
    "    train-rmse:1.71826e+06+30076.1\ttest-rmse:2.66515e+06+54583.5\n",
    "    predict-train: 1814572.97424\n",
    "    kaggle: 0.31602\n",
    "\n",
    "7*300, no macro, add rel features, no log price, train_without_noise, 4000 iter:\n",
    "\n",
    "    val-rmse:2.59955e+06\n",
    "    train-rmse:1.41393e+06+21208.1\ttest-rmse:2.6763e+06+35553.3\n",
    "    predict-train: 1548257.49121\n",
    "    kaggle: 0.31768\n",
    "\n",
    "4*300, no macro, add rel features, no log price, train_without_noise, 4000 iter:\n",
    "    \n",
    "    val-rmse:2.63407e+06\n",
    "    train-rmse:1.96513e+06+21470.8\ttest-rmse:2.69417e+06+74288.3\n",
    "    predict-train: 2062299.41091\n",
    "    kaggle: 0.31952\n",
    "\n",
    "7*200, no macro, add rel features, no log price, train_without_noise, 4000 iter:\n",
    "\n",
    "    val-rmse:2.59955e+06\n",
    "    train-rmse:1.41393e+06+21208.1\ttest-rmse:2.6763e+06+35553.3\n",
    "    predict-train: 1548257.49121\n",
    "\n",
    "5*300, no macro, add rel features, no log price, train_without_noise, 4000 iter:\n",
    "    \n",
    "    val-rmse:2.61055e+06\n",
    "    train-rmse:1.71826e+06+30076.1\ttest-rmse:2.66515e+06+54583.5\n",
    "    predict-train: 1814572.97424\n",
    "\n",
    "5*200, no macro, add rel features, no log price, train_without_noise, 4000 iter, not fillna:\n",
    "\n",
    "    val-rmse:2.61664e+06\n",
    "    train-rmse:1.77892e+06+23111\ttest-rmse:2.65829e+06+56398.6\n",
    "    predict-train: 1875799.54634\n",
    "    kaggle: 0.31521\n",
    "\n",
    "5*200, no macro, add rel features, no log price, train_without_noise, 4000 iter, not fillna, superclean:\n",
    "    \n",
    "    val-rmse:2.6265e+06\n",
    "    train-rmse:1.78478e+06+22545.4\ttest-rmse:2.66179e+06+60626.3\n",
    "    predict-train: 1881672.27588\n",
    "    "
   ]
  },
  {
   "cell_type": "code",
   "execution_count": null,
   "metadata": {
    "run_control": {
     "frozen": false,
     "read_only": false
    }
   },
   "outputs": [],
   "source": []
  }
 ],
 "metadata": {
  "hide_input": false,
  "kernelspec": {
   "display_name": "Python 2",
   "language": "python",
   "name": "python2"
  },
  "language_info": {
   "codemirror_mode": {
    "name": "ipython",
    "version": 2
   },
   "file_extension": ".py",
   "mimetype": "text/x-python",
   "name": "python",
   "nbconvert_exporter": "python",
   "pygments_lexer": "ipython2",
   "version": "2.7.13"
  },
  "toc": {
   "colors": {
    "hover_highlight": "#DAA520",
    "running_highlight": "#FF0000",
    "selected_highlight": "#FFD700"
   },
   "moveMenuLeft": true,
   "nav_menu": {
    "height": "102px",
    "width": "252px"
   },
   "navigate_menu": true,
   "number_sections": true,
   "sideBar": true,
   "threshold": 4,
   "toc_cell": false,
   "toc_section_display": "block",
   "toc_window_display": false,
   "widenNotebook": false
  }
 },
 "nbformat": 4,
 "nbformat_minor": 2
}
