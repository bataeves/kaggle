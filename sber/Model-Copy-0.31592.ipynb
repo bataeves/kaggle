{
 "cells": [
  {
   "cell_type": "code",
   "execution_count": 2,
   "metadata": {
    "ExecuteTime": {
     "end_time": "2017-05-20T11:09:58.191514Z",
     "start_time": "2017-05-20T11:09:58.179559Z"
    },
    "run_control": {
     "frozen": false,
     "read_only": false
    },
    "scrolled": true
   },
   "outputs": [
    {
     "name": "stdout",
     "output_type": "stream",
     "text": [
      "The ipycache extension is already loaded. To reload it, use:\n",
      "  %reload_ext ipycache\n"
     ]
    }
   ],
   "source": [
    "%matplotlib inline\n",
    "%load_ext ipycache\n",
    "\n",
    "import pandas as pd\n",
    "import numpy as np\n",
    "import scipy\n",
    "import sklearn as sk\n",
    "import xgboost as xgb\n",
    "\n",
    "from eli5 import show_weights\n",
    "\n",
    "import seaborn as sns\n",
    "sns.set()\n",
    "\n",
    "import matplotlib.pyplot as plt"
   ]
  },
  {
   "cell_type": "code",
   "execution_count": 4,
   "metadata": {
    "ExecuteTime": {
     "end_time": "2017-05-20T11:10:44.039913Z",
     "start_time": "2017-05-20T11:10:44.029710Z"
    },
    "run_control": {
     "frozen": false,
     "read_only": false
    }
   },
   "outputs": [],
   "source": [
    "import math\n",
    "\n",
    "#A function to calculate Root Mean Squared Logarithmic Error (RMSLE)\n",
    "def rmsle(y, y_pred):\n",
    "    assert len(y) == len(y_pred)\n",
    "    terms_to_sum = [\n",
    "        (math.log(y_pred[i] + 1) - math.log(y[i] + 1)) ** 2.0 \n",
    "        for i,pred in enumerate(y_pred)\n",
    "    ]\n",
    "    return (sum(terms_to_sum) * (1.0/len(y))) ** 0.5\n",
    "\n",
    "def rmse(y, y_pred):\n",
    "    return np.sqrt(((y_pred - y) ** 2).mean())"
   ]
  },
  {
   "cell_type": "markdown",
   "metadata": {
    "ExecuteTime": {
     "end_time": "2017-05-07T09:44:28.610829Z",
     "start_time": "2017-05-07T12:44:28.607703+03:00"
    },
    "run_control": {
     "frozen": false,
     "read_only": false
    }
   },
   "source": [
    "# Препроцессинг фич"
   ]
  },
  {
   "cell_type": "code",
   "execution_count": 369,
   "metadata": {
    "ExecuteTime": {
     "end_time": "2017-05-21T18:07:39.619362Z",
     "start_time": "2017-05-21T18:07:37.679002Z"
    },
    "run_control": {
     "frozen": false,
     "read_only": false
    }
   },
   "outputs": [
    {
     "data": {
      "text/html": [
       "<div>\n",
       "<style>\n",
       "    .dataframe thead tr:only-child th {\n",
       "        text-align: right;\n",
       "    }\n",
       "\n",
       "    .dataframe thead th {\n",
       "        text-align: left;\n",
       "    }\n",
       "\n",
       "    .dataframe tbody tr th {\n",
       "        vertical-align: top;\n",
       "    }\n",
       "</style>\n",
       "<table border=\"1\" class=\"dataframe\">\n",
       "  <thead>\n",
       "    <tr style=\"text-align: right;\">\n",
       "      <th></th>\n",
       "      <th>id</th>\n",
       "      <th>timestamp</th>\n",
       "      <th>full_sq</th>\n",
       "      <th>life_sq</th>\n",
       "      <th>floor</th>\n",
       "      <th>max_floor</th>\n",
       "      <th>material</th>\n",
       "      <th>build_year</th>\n",
       "      <th>num_room</th>\n",
       "      <th>kitch_sq</th>\n",
       "      <th>...</th>\n",
       "      <th>cafe_count_5000_price_2500</th>\n",
       "      <th>cafe_count_5000_price_4000</th>\n",
       "      <th>cafe_count_5000_price_high</th>\n",
       "      <th>big_church_count_5000</th>\n",
       "      <th>church_count_5000</th>\n",
       "      <th>mosque_count_5000</th>\n",
       "      <th>leisure_count_5000</th>\n",
       "      <th>sport_count_5000</th>\n",
       "      <th>market_count_5000</th>\n",
       "      <th>price_doc</th>\n",
       "    </tr>\n",
       "  </thead>\n",
       "  <tbody>\n",
       "    <tr>\n",
       "      <th>0</th>\n",
       "      <td>1</td>\n",
       "      <td>2011-08-20</td>\n",
       "      <td>43</td>\n",
       "      <td>27.0</td>\n",
       "      <td>4.0</td>\n",
       "      <td>NaN</td>\n",
       "      <td>NaN</td>\n",
       "      <td>NaN</td>\n",
       "      <td>NaN</td>\n",
       "      <td>NaN</td>\n",
       "      <td>...</td>\n",
       "      <td>9</td>\n",
       "      <td>4</td>\n",
       "      <td>0</td>\n",
       "      <td>13</td>\n",
       "      <td>22</td>\n",
       "      <td>1</td>\n",
       "      <td>0</td>\n",
       "      <td>52</td>\n",
       "      <td>4</td>\n",
       "      <td>5850000</td>\n",
       "    </tr>\n",
       "    <tr>\n",
       "      <th>1</th>\n",
       "      <td>2</td>\n",
       "      <td>2011-08-23</td>\n",
       "      <td>34</td>\n",
       "      <td>19.0</td>\n",
       "      <td>3.0</td>\n",
       "      <td>NaN</td>\n",
       "      <td>NaN</td>\n",
       "      <td>NaN</td>\n",
       "      <td>NaN</td>\n",
       "      <td>NaN</td>\n",
       "      <td>...</td>\n",
       "      <td>15</td>\n",
       "      <td>3</td>\n",
       "      <td>0</td>\n",
       "      <td>15</td>\n",
       "      <td>29</td>\n",
       "      <td>1</td>\n",
       "      <td>10</td>\n",
       "      <td>66</td>\n",
       "      <td>14</td>\n",
       "      <td>6000000</td>\n",
       "    </tr>\n",
       "    <tr>\n",
       "      <th>2</th>\n",
       "      <td>3</td>\n",
       "      <td>2011-08-27</td>\n",
       "      <td>43</td>\n",
       "      <td>29.0</td>\n",
       "      <td>2.0</td>\n",
       "      <td>NaN</td>\n",
       "      <td>NaN</td>\n",
       "      <td>NaN</td>\n",
       "      <td>NaN</td>\n",
       "      <td>NaN</td>\n",
       "      <td>...</td>\n",
       "      <td>10</td>\n",
       "      <td>3</td>\n",
       "      <td>0</td>\n",
       "      <td>11</td>\n",
       "      <td>27</td>\n",
       "      <td>0</td>\n",
       "      <td>4</td>\n",
       "      <td>67</td>\n",
       "      <td>10</td>\n",
       "      <td>5700000</td>\n",
       "    </tr>\n",
       "    <tr>\n",
       "      <th>3</th>\n",
       "      <td>4</td>\n",
       "      <td>2011-09-01</td>\n",
       "      <td>89</td>\n",
       "      <td>50.0</td>\n",
       "      <td>9.0</td>\n",
       "      <td>NaN</td>\n",
       "      <td>NaN</td>\n",
       "      <td>NaN</td>\n",
       "      <td>NaN</td>\n",
       "      <td>NaN</td>\n",
       "      <td>...</td>\n",
       "      <td>11</td>\n",
       "      <td>2</td>\n",
       "      <td>1</td>\n",
       "      <td>4</td>\n",
       "      <td>4</td>\n",
       "      <td>0</td>\n",
       "      <td>0</td>\n",
       "      <td>26</td>\n",
       "      <td>3</td>\n",
       "      <td>13100000</td>\n",
       "    </tr>\n",
       "    <tr>\n",
       "      <th>4</th>\n",
       "      <td>5</td>\n",
       "      <td>2011-09-05</td>\n",
       "      <td>77</td>\n",
       "      <td>77.0</td>\n",
       "      <td>4.0</td>\n",
       "      <td>NaN</td>\n",
       "      <td>NaN</td>\n",
       "      <td>NaN</td>\n",
       "      <td>NaN</td>\n",
       "      <td>NaN</td>\n",
       "      <td>...</td>\n",
       "      <td>319</td>\n",
       "      <td>108</td>\n",
       "      <td>17</td>\n",
       "      <td>135</td>\n",
       "      <td>236</td>\n",
       "      <td>2</td>\n",
       "      <td>91</td>\n",
       "      <td>195</td>\n",
       "      <td>14</td>\n",
       "      <td>16331452</td>\n",
       "    </tr>\n",
       "  </tbody>\n",
       "</table>\n",
       "<p>5 rows × 292 columns</p>\n",
       "</div>"
      ],
      "text/plain": [
       "   id   timestamp  full_sq  life_sq  floor  max_floor  material  build_year  \\\n",
       "0   1  2011-08-20       43     27.0    4.0        NaN       NaN         NaN   \n",
       "1   2  2011-08-23       34     19.0    3.0        NaN       NaN         NaN   \n",
       "2   3  2011-08-27       43     29.0    2.0        NaN       NaN         NaN   \n",
       "3   4  2011-09-01       89     50.0    9.0        NaN       NaN         NaN   \n",
       "4   5  2011-09-05       77     77.0    4.0        NaN       NaN         NaN   \n",
       "\n",
       "   num_room  kitch_sq    ...      cafe_count_5000_price_2500  \\\n",
       "0       NaN       NaN    ...                               9   \n",
       "1       NaN       NaN    ...                              15   \n",
       "2       NaN       NaN    ...                              10   \n",
       "3       NaN       NaN    ...                              11   \n",
       "4       NaN       NaN    ...                             319   \n",
       "\n",
       "  cafe_count_5000_price_4000 cafe_count_5000_price_high  \\\n",
       "0                          4                          0   \n",
       "1                          3                          0   \n",
       "2                          3                          0   \n",
       "3                          2                          1   \n",
       "4                        108                         17   \n",
       "\n",
       "   big_church_count_5000  church_count_5000  mosque_count_5000  \\\n",
       "0                     13                 22                  1   \n",
       "1                     15                 29                  1   \n",
       "2                     11                 27                  0   \n",
       "3                      4                  4                  0   \n",
       "4                    135                236                  2   \n",
       "\n",
       "   leisure_count_5000  sport_count_5000  market_count_5000  price_doc  \n",
       "0                   0                52                  4    5850000  \n",
       "1                  10                66                 14    6000000  \n",
       "2                   4                67                 10    5700000  \n",
       "3                   0                26                  3   13100000  \n",
       "4                  91               195                 14   16331452  \n",
       "\n",
       "[5 rows x 292 columns]"
      ]
     },
     "execution_count": 369,
     "metadata": {},
     "output_type": "execute_result"
    }
   ],
   "source": [
    "# train_raw = pd.read_csv(\"data/train.csv\")\n",
    "train_raw = pd.read_csv(\"data/train_without_noise.csv\")\n",
    "macro = pd.read_csv(\"data/macro.csv\")\n",
    "train_raw.head()"
   ]
  },
  {
   "cell_type": "code",
   "execution_count": 370,
   "metadata": {
    "ExecuteTime": {
     "end_time": "2017-05-21T18:07:39.630829Z",
     "start_time": "2017-05-21T18:07:39.622487Z"
    },
    "run_control": {
     "frozen": false,
     "read_only": false
    }
   },
   "outputs": [],
   "source": [
    "def preprocess_anomaly(df):\n",
    "    df[\"full_sq\"] = map(lambda x: x if x > 10 else float(\"NaN\"), df[\"full_sq\"])\n",
    "    df[\"life_sq\"] = map(lambda x: x if x > 5 else float(\"NaN\"), df[\"life_sq\"])\n",
    "    df[\"kitch_sq\"] = map(lambda x: x if x > 2 else float(\"NaN\"), df[\"kitch_sq\"])\n",
    "#     full_sq-life_sq<0 full_sq-kitch_sq<0 life_sq-kitch_sq<0 floor-max_floor<0\n",
    "    return df"
   ]
  },
  {
   "cell_type": "code",
   "execution_count": 371,
   "metadata": {
    "ExecuteTime": {
     "end_time": "2017-05-21T18:07:39.679805Z",
     "start_time": "2017-05-21T18:07:39.632863Z"
    },
    "code_folding": [],
    "run_control": {
     "frozen": false,
     "read_only": false
    }
   },
   "outputs": [],
   "source": [
    "def preprocess_categorial(df):\n",
    "    df = mess_y_categorial(df, 5)\n",
    "    df = df.select_dtypes(exclude=['object'])\n",
    "    return df\n",
    "\n",
    "def apply_categorial(test, train):\n",
    "    test = mess_y_categorial_fold(test, train)\n",
    "    test = test.select_dtypes(exclude=['object'])\n",
    "    return test\n",
    "\n",
    "\n",
    "def smoothed_likelihood(targ_mean, nrows, globalmean, alpha=10):\n",
    "    try:\n",
    "        return (targ_mean * nrows + globalmean * alpha) / (nrows + alpha)\n",
    "    except Exception:\n",
    "        return float(\"NaN\")\n",
    "\n",
    "\n",
    "def mess_y_categorial(df, nfolds=3, alpha=10):\n",
    "    from sklearn.utils import shuffle\n",
    "    from copy import copy\n",
    "\n",
    "    folds = np.array_split(shuffle(df), nfolds)\n",
    "    newfolds = []\n",
    "    for i in range(nfolds):\n",
    "        fold = folds[i]\n",
    "\n",
    "        other_folds = copy(folds)\n",
    "        other_folds.pop(i)\n",
    "        other_fold = pd.concat(other_folds)\n",
    "\n",
    "        newfolds.append(mess_y_categorial_fold(fold, other_fold, alpha=10))\n",
    "\n",
    "    return pd.concat(newfolds)\n",
    "\n",
    "def mess_y_categorial_fold(fold_raw, other_fold, cols=None, y_col=\"price_doc\", alpha=10):\n",
    "    fold = fold_raw.copy()\n",
    "    if not cols:\n",
    "        cols = list(fold.select_dtypes(include=[\"object\"]).columns)\n",
    "    globalmean = other_fold[y_col].mean()\n",
    "    for c in cols:\n",
    "\n",
    "        target_mean = other_fold[[c, y_col]].groupby(c).mean().to_dict()[y_col]\n",
    "        nrows = other_fold[c].value_counts().to_dict()\n",
    "\n",
    "        fold[c + \"_sll\"] = fold[c].apply(\n",
    "            lambda x: smoothed_likelihood(target_mean.get(x), nrows.get(x), globalmean, alpha) if x else float(\"NaN\")\n",
    "        )\n",
    "    return fold"
   ]
  },
  {
   "cell_type": "code",
   "execution_count": 372,
   "metadata": {
    "ExecuteTime": {
     "end_time": "2017-05-21T18:07:39.752129Z",
     "start_time": "2017-05-21T18:07:39.745636Z"
    },
    "run_control": {
     "frozen": false,
     "read_only": false
    }
   },
   "outputs": [],
   "source": [
    "def apply_macro(df):\n",
    "    macro_cols = [\n",
    "        'timestamp', \"balance_trade\", \"balance_trade_growth\", \"eurrub\", \"average_provision_of_build_contract\",\n",
    "        \"micex_rgbi_tr\", \"micex_cbi_tr\", \"deposits_rate\", \"mortgage_value\", \"mortgage_rate\",\n",
    "        \"income_per_cap\", \"rent_price_4+room_bus\", \"museum_visitis_per_100_cap\", \"apartment_build\"\n",
    "    ]\n",
    "    return pd.merge(df, macro, on='timestamp', how='left')"
   ]
  },
  {
   "cell_type": "code",
   "execution_count": 373,
   "metadata": {
    "ExecuteTime": {
     "end_time": "2017-05-21T18:07:40.333230Z",
     "start_time": "2017-05-21T18:07:40.307057Z"
    },
    "run_control": {
     "frozen": false,
     "read_only": false
    }
   },
   "outputs": [],
   "source": [
    "def preprocess(df):\n",
    "    from sklearn.preprocessing import OneHotEncoder, FunctionTransformer\n",
    "    \n",
    "#     df = apply_macro(df)\n",
    "    \n",
    "#     df[\"timestamp_year\"] = df[\"timestamp\"].apply(lambda x: x.split(\"-\")[0])\n",
    "#     df[\"timestamp_month\"] = df[\"timestamp\"].apply(lambda x: x.split(\"-\")[1])\n",
    "#     df[\"timestamp_year_month\"] = df[\"timestamp\"].apply(lambda x: x.split(\"-\")[0] + \"-\" + x.split(\"-\")[1]) \n",
    "\n",
    "    df = df.drop([\"id\", \"timestamp\"], axis=1)\n",
    "\n",
    "    ecology = [\"no data\", \"poor\", \"satisfactory\", \"good\", \"excellent\"]\n",
    "    df[\"ecology_index\"] = map(ecology.index, df[\"ecology\"].values)\n",
    "    \n",
    "    bool_feats = [\n",
    "        \"thermal_power_plant_raion\",\n",
    "        \"incineration_raion\",\n",
    "        \"oil_chemistry_raion\",\n",
    "        \"radiation_raion\",\n",
    "        \"railroad_terminal_raion\",\n",
    "        \"big_market_raion\",\n",
    "        \"nuclear_reactor_raion\",\n",
    "        \"detention_facility_raion\",\n",
    "        \"water_1line\",\n",
    "        \"big_road1_1line\",\n",
    "        \"railroad_1line\",\n",
    "        \"culture_objects_top_25\"\n",
    "    ]\n",
    "    for bf in bool_feats:\n",
    "        df[bf + \"_bool\"] = map(lambda x: x == \"yes\", df[bf].values)\n",
    "\n",
    "    df = preprocess_anomaly(df)\n",
    "\n",
    "    df['rel_floor'] = df['floor'] / df['max_floor'].astype(float)\n",
    "    df['rel_kitch_sq'] = df['kitch_sq'] / df['full_sq'].astype(float)\n",
    "    df['rel_life_sq'] = df['life_sq'] / df['full_sq'].astype(float)\n",
    "\n",
    "    df[\"material_cat\"] = df.material.fillna(0).astype(int).astype(str).replace(\"0\", \"\")\n",
    "    df[\"state_cat\"] = df.state.fillna(0).astype(int).astype(str).replace(\"0\", \"\")\n",
    "\n",
    "#     df[\"age_of_building\"] = df[\"timestamp_year\"].astype(float) - df[\"build_year\"].astype(float)\n",
    "\n",
    "    df[\"num_room_cat\"] = df.num_room.fillna(0).astype(int).astype(str).replace(\"0\", \"\")\n",
    "\n",
    "    return df"
   ]
  },
  {
   "cell_type": "code",
   "execution_count": 374,
   "metadata": {
    "ExecuteTime": {
     "end_time": "2017-05-21T18:07:48.860496Z",
     "start_time": "2017-05-21T18:07:44.627078Z"
    },
    "run_control": {
     "frozen": false,
     "read_only": false
    }
   },
   "outputs": [],
   "source": [
    "# train_raw[\"price_doc\"] = np.log1p(train_raw[\"price_doc\"].values)\n",
    "\n",
    "train_pr = preprocess(train_raw)\n",
    "train = preprocess_categorial(train_pr)\n",
    "train = train.fillna(-1)\n",
    "\n",
    "X = train.drop([\"price_doc\"], axis=1)\n",
    "y = train[\"price_doc\"].values"
   ]
  },
  {
   "cell_type": "markdown",
   "metadata": {
    "run_control": {
     "frozen": false,
     "read_only": false
    }
   },
   "source": [
    "# Обучение моделей"
   ]
  },
  {
   "cell_type": "code",
   "execution_count": 375,
   "metadata": {
    "ExecuteTime": {
     "end_time": "2017-05-21T18:07:56.306927Z",
     "start_time": "2017-05-21T18:07:48.862651Z"
    },
    "run_control": {
     "frozen": false,
     "read_only": false
    }
   },
   "outputs": [],
   "source": [
    "from sklearn.model_selection import train_test_split\n",
    "\n",
    "X_train, X_val, y_train, y_val = train_test_split(X.values, y, test_size=0.20, random_state=43)\n",
    "\n",
    "dtrain_all = xgb.DMatrix(X.values, y, feature_names=X.columns)\n",
    "dtrain = xgb.DMatrix(X_train, y_train, feature_names=X.columns)\n",
    "dval = xgb.DMatrix(X_val, y_val, feature_names=X.columns)"
   ]
  },
  {
   "cell_type": "code",
   "execution_count": 376,
   "metadata": {
    "ExecuteTime": {
     "end_time": "2017-05-21T18:12:20.673575Z",
     "start_time": "2017-05-21T18:07:56.309296Z"
    },
    "run_control": {
     "frozen": false,
     "read_only": false
    }
   },
   "outputs": [
    {
     "name": "stdout",
     "output_type": "stream",
     "text": [
      "[0]\tval-rmse:8.18105e+06\n",
      "Will train until val-rmse hasn't improved in 40 rounds.\n",
      "[40]\tval-rmse:5.84753e+06\n",
      "[80]\tval-rmse:4.41844e+06\n",
      "[120]\tval-rmse:3.59168e+06\n",
      "[160]\tval-rmse:3.15409e+06\n",
      "[200]\tval-rmse:2.92998e+06\n",
      "[240]\tval-rmse:2.81863e+06\n",
      "[280]\tval-rmse:2.762e+06\n",
      "[320]\tval-rmse:2.73116e+06\n",
      "[360]\tval-rmse:2.71531e+06\n",
      "[400]\tval-rmse:2.70434e+06\n",
      "[440]\tval-rmse:2.69486e+06\n",
      "[480]\tval-rmse:2.68622e+06\n",
      "[520]\tval-rmse:2.67812e+06\n",
      "[560]\tval-rmse:2.67135e+06\n",
      "[600]\tval-rmse:2.66673e+06\n",
      "[640]\tval-rmse:2.66158e+06\n",
      "[680]\tval-rmse:2.65696e+06\n",
      "[720]\tval-rmse:2.65344e+06\n",
      "[760]\tval-rmse:2.65052e+06\n",
      "[800]\tval-rmse:2.64762e+06\n",
      "[840]\tval-rmse:2.64509e+06\n",
      "[880]\tval-rmse:2.64208e+06\n",
      "[920]\tval-rmse:2.63956e+06\n",
      "[960]\tval-rmse:2.63772e+06\n",
      "[1000]\tval-rmse:2.63657e+06\n",
      "[1040]\tval-rmse:2.63533e+06\n",
      "[1080]\tval-rmse:2.63418e+06\n",
      "[1120]\tval-rmse:2.63305e+06\n",
      "[1160]\tval-rmse:2.63226e+06\n",
      "[1200]\tval-rmse:2.63064e+06\n",
      "[1240]\tval-rmse:2.62959e+06\n",
      "[1280]\tval-rmse:2.62815e+06\n",
      "[1320]\tval-rmse:2.62728e+06\n",
      "[1360]\tval-rmse:2.62624e+06\n",
      "[1400]\tval-rmse:2.62503e+06\n",
      "[1440]\tval-rmse:2.62415e+06\n",
      "[1480]\tval-rmse:2.62337e+06\n",
      "[1520]\tval-rmse:2.62246e+06\n",
      "[1560]\tval-rmse:2.62175e+06\n",
      "[1600]\tval-rmse:2.62116e+06\n",
      "[1640]\tval-rmse:2.62084e+06\n",
      "[1680]\tval-rmse:2.62029e+06\n",
      "[1720]\tval-rmse:2.61929e+06\n",
      "[1760]\tval-rmse:2.61877e+06\n",
      "[1800]\tval-rmse:2.61785e+06\n",
      "[1840]\tval-rmse:2.61754e+06\n",
      "[1880]\tval-rmse:2.61712e+06\n",
      "[1920]\tval-rmse:2.61685e+06\n",
      "[1960]\tval-rmse:2.61682e+06\n"
     ]
    }
   ],
   "source": [
    "xgb_params = {\n",
    "    'max_depth': 5,\n",
    "    'n_estimators': 200,\n",
    "    'learning_rate': 0.01,\n",
    "    'objective': 'reg:linear',\n",
    "    'eval_metric': 'rmse',\n",
    "    'silent': 1\n",
    "}\n",
    "\n",
    "# Uncomment to tune XGB `num_boost_rounds`\n",
    "model = xgb.train(xgb_params, dtrain, num_boost_round=2000, evals=[(dval, 'val')],\n",
    "                  early_stopping_rounds=40, verbose_eval=40)\n",
    "\n",
    "num_boost_round = model.best_iteration"
   ]
  },
  {
   "cell_type": "code",
   "execution_count": 377,
   "metadata": {
    "ExecuteTime": {
     "end_time": "2017-05-21T18:22:40.615232Z",
     "start_time": "2017-05-21T18:12:20.677278Z"
    },
    "run_control": {
     "frozen": false,
     "read_only": false
    }
   },
   "outputs": [
    {
     "name": "stdout",
     "output_type": "stream",
     "text": [
      "[0]\ttrain-rmse:8.41615e+06+58054.6\ttest-rmse:8.41716e+06+116561\n",
      "[40]\ttrain-rmse:6.02691e+06+42346.7\ttest-rmse:6.07837e+06+102351\n",
      "[80]\ttrain-rmse:4.51644e+06+32094.5\ttest-rmse:4.63427e+06+93436.1\n",
      "[120]\ttrain-rmse:3.58738e+06+27467.2\ttest-rmse:3.77603e+06+79514.4\n",
      "[160]\ttrain-rmse:3.03287e+06+24978.1\ttest-rmse:3.29726e+06+68990.7\n",
      "[200]\ttrain-rmse:2.70987e+06+23363.6\ttest-rmse:3.04471e+06+63796.3\n",
      "[240]\ttrain-rmse:2.51902e+06+20561.5\ttest-rmse:2.91147e+06+60630.6\n",
      "[280]\ttrain-rmse:2.40303e+06+18519\ttest-rmse:2.83979e+06+57547.3\n",
      "[320]\ttrain-rmse:2.32832e+06+16507.2\ttest-rmse:2.79944e+06+55304.3\n",
      "[360]\ttrain-rmse:2.27524e+06+13547.4\ttest-rmse:2.77595e+06+55858.6\n",
      "[400]\ttrain-rmse:2.23501e+06+12167.9\ttest-rmse:2.76001e+06+56344.9\n",
      "[440]\ttrain-rmse:2.2013e+06+9987.45\ttest-rmse:2.74812e+06+57855.9\n",
      "[480]\ttrain-rmse:2.17181e+06+8388.07\ttest-rmse:2.73749e+06+57790.1\n",
      "[520]\ttrain-rmse:2.14692e+06+7958\ttest-rmse:2.72925e+06+56712.6\n",
      "[560]\ttrain-rmse:2.12481e+06+8950.27\ttest-rmse:2.72305e+06+55623.5\n",
      "[600]\ttrain-rmse:2.10633e+06+10066.2\ttest-rmse:2.71817e+06+54333.5\n",
      "[640]\ttrain-rmse:2.08949e+06+9974.73\ttest-rmse:2.71318e+06+53570.4\n",
      "[680]\ttrain-rmse:2.07473e+06+7896.81\ttest-rmse:2.70924e+06+52513.1\n",
      "[720]\ttrain-rmse:2.06198e+06+7285.82\ttest-rmse:2.70563e+06+51928.4\n",
      "[760]\ttrain-rmse:2.04968e+06+7511.73\ttest-rmse:2.70273e+06+51257.6\n",
      "[800]\ttrain-rmse:2.03852e+06+7486.02\ttest-rmse:2.70028e+06+51024.5\n",
      "[840]\ttrain-rmse:2.02831e+06+7372.61\ttest-rmse:2.69762e+06+51628.6\n",
      "[880]\ttrain-rmse:2.01787e+06+8684.33\ttest-rmse:2.69575e+06+52469.7\n",
      "[920]\ttrain-rmse:2.00799e+06+9691.07\ttest-rmse:2.69355e+06+52811\n",
      "[960]\ttrain-rmse:1.9989e+06+10986.4\ttest-rmse:2.69158e+06+53020\n",
      "[1000]\ttrain-rmse:1.99035e+06+12451.1\ttest-rmse:2.69017e+06+53075.2\n",
      "[1040]\ttrain-rmse:1.9819e+06+13794.7\ttest-rmse:2.68882e+06+53390.3\n",
      "[1080]\ttrain-rmse:1.97292e+06+15202.2\ttest-rmse:2.68763e+06+53776\n",
      "[1120]\ttrain-rmse:1.96472e+06+16244\ttest-rmse:2.68637e+06+53971.4\n",
      "[1160]\ttrain-rmse:1.95651e+06+16984.1\ttest-rmse:2.68527e+06+53931.8\n",
      "[1200]\ttrain-rmse:1.94852e+06+17958.6\ttest-rmse:2.68443e+06+54036.7\n",
      "[1240]\ttrain-rmse:1.94112e+06+18690.7\ttest-rmse:2.68366e+06+53984.1\n",
      "[1280]\ttrain-rmse:1.93326e+06+19445\ttest-rmse:2.68255e+06+54147.1\n",
      "[1320]\ttrain-rmse:1.92485e+06+19665.2\ttest-rmse:2.6815e+06+53806\n",
      "[1360]\ttrain-rmse:1.9173e+06+20073.1\ttest-rmse:2.68062e+06+53736.6\n",
      "[1400]\ttrain-rmse:1.90985e+06+20323.4\ttest-rmse:2.67985e+06+53254.2\n",
      "[1440]\ttrain-rmse:1.90232e+06+20615.3\ttest-rmse:2.67898e+06+52904.2\n",
      "[1480]\ttrain-rmse:1.89513e+06+21478.3\ttest-rmse:2.6781e+06+53165.7\n",
      "[1520]\ttrain-rmse:1.88811e+06+21403.4\ttest-rmse:2.67743e+06+53165\n",
      "[1560]\ttrain-rmse:1.88117e+06+21836.7\ttest-rmse:2.67635e+06+53107.8\n",
      "[1600]\ttrain-rmse:1.87427e+06+22414.8\ttest-rmse:2.67545e+06+53328.2\n",
      "[1640]\ttrain-rmse:1.86715e+06+23226.6\ttest-rmse:2.67475e+06+53545.1\n",
      "[1680]\ttrain-rmse:1.86006e+06+24147.8\ttest-rmse:2.67391e+06+53750.6\n",
      "[1720]\ttrain-rmse:1.85307e+06+25067.5\ttest-rmse:2.67293e+06+53814.4\n",
      "[1760]\ttrain-rmse:1.84562e+06+26442.7\ttest-rmse:2.67226e+06+54028.7\n",
      "[1800]\ttrain-rmse:1.83854e+06+27297.9\ttest-rmse:2.67146e+06+53855.9\n",
      "[1840]\ttrain-rmse:1.83141e+06+28529.4\ttest-rmse:2.67087e+06+53984\n",
      "[1880]\ttrain-rmse:1.82435e+06+28622.7\ttest-rmse:2.67033e+06+53921.5\n",
      "[1920]\ttrain-rmse:1.81752e+06+28049\ttest-rmse:2.66976e+06+53897.8\n",
      "[1960]\ttrain-rmse:1.81123e+06+27681.2\ttest-rmse:2.66923e+06+53925.7\n"
     ]
    },
    {
     "data": {
      "text/plain": [
       "<matplotlib.axes._subplots.AxesSubplot at 0x112b0c750>"
      ]
     },
     "execution_count": 377,
     "metadata": {},
     "output_type": "execute_result"
    },
    {
     "data": {
      "image/png": "[encoded data removed]",
      "text/plain": [
       "<matplotlib.figure.Figure at 0x1106dfb10>"
      ]
     },
     "metadata": {},
     "output_type": "display_data"
    }
   ],
   "source": [
    "cv_output = xgb.cv(dict(xgb_params, silent=0), dtrain_all, num_boost_round=num_boost_round, verbose_eval=40)\n",
    "cv_output[['train-rmse-mean', 'test-rmse-mean']].plot()"
   ]
  },
  {
   "cell_type": "code",
   "execution_count": 378,
   "metadata": {
    "ExecuteTime": {
     "end_time": "2017-05-21T18:28:32.654928Z",
     "start_time": "2017-05-21T18:22:40.617822Z"
    },
    "run_control": {
     "frozen": false,
     "read_only": false
    }
   },
   "outputs": [
    {
     "name": "stdout",
     "output_type": "stream",
     "text": [
      "predict-train: 1899129.43771\n"
     ]
    }
   ],
   "source": [
    "model = xgb.train(dict(xgb_params, silent=0), dtrain_all, num_boost_round=num_boost_round, verbose_eval=40)\n",
    "print \"predict-train:\", rmse(model.predict(dtrain_all), y)"
   ]
  },
  {
   "cell_type": "code",
   "execution_count": 152,
   "metadata": {
    "ExecuteTime": {
     "end_time": "2017-05-20T14:28:48.550689Z",
     "start_time": "2017-05-20T14:28:21.838922Z"
    },
    "run_control": {
     "frozen": false,
     "read_only": false
    }
   },
   "outputs": [
    {
     "name": "stdout",
     "output_type": "stream",
     "text": [
      "0.600060083922\r\n",
      "0.600143342353\r\n",
      "0.600373787948\r\n",
      "0.600353068955\r\n",
      "0.46439283026\r\n",
      "0.46439283026\r\n",
      "0.358629272177\r\n",
      "0.169248212931\r\n",
      "0.169248212931\r\n",
      "0.600353068955\r\n"
     ]
    }
   ],
   "source": [
    "model = xgb.XGBRegressor(max_depth=5, n_estimators=100, learning_rate=0.01, nthread=-1, silent=False)\n",
    "model.fit(X.values, y, verbose=20)\n",
    "\n",
    "with open(\"scores.tsv\", \"a\") as sf:\n",
    "    sf.write(\"%s\\n\" % rmsle(model.predict(X.values), y))\n",
    "\n",
    "!tail scores.tsv"
   ]
  },
  {
   "cell_type": "code",
   "execution_count": 206,
   "metadata": {
    "ExecuteTime": {
     "end_time": "2017-05-20T18:49:57.534660Z",
     "start_time": "2017-05-20T18:49:57.431480Z"
    },
    "run_control": {
     "frozen": false,
     "read_only": false
    }
   },
   "outputs": [
    {
     "ename": "AttributeError",
     "evalue": "'Booster' object has no attribute 'booster'",
     "output_type": "error",
     "traceback": [
      "\u001b[0;31m---------------------------------------------------------------------------\u001b[0m",
      "\u001b[0;31mAttributeError\u001b[0m                            Traceback (most recent call last)",
      "\u001b[0;32m<ipython-input-206-e05b2e64604f>\u001b[0m in \u001b[0;36m<module>\u001b[0;34m()\u001b[0m\n\u001b[0;32m----> 1\u001b[0;31m \u001b[0mshow_weights\u001b[0m\u001b[0;34m(\u001b[0m\u001b[0mmodel\u001b[0m\u001b[0;34m.\u001b[0m\u001b[0mbooster\u001b[0m\u001b[0;34m(\u001b[0m\u001b[0;34m)\u001b[0m\u001b[0;34m,\u001b[0m \u001b[0mfeature_names\u001b[0m\u001b[0;34m=\u001b[0m\u001b[0mlist\u001b[0m\u001b[0;34m(\u001b[0m\u001b[0mX\u001b[0m\u001b[0;34m.\u001b[0m\u001b[0mcolumns\u001b[0m\u001b[0;34m)\u001b[0m\u001b[0;34m,\u001b[0m \u001b[0mimportance_type\u001b[0m\u001b[0;34m=\u001b[0m\u001b[0;34m\"weight\"\u001b[0m\u001b[0;34m)\u001b[0m\u001b[0;34m\u001b[0m\u001b[0m\n\u001b[0m",
      "\u001b[0;31mAttributeError\u001b[0m: 'Booster' object has no attribute 'booster'"
     ]
    }
   ],
   "source": [
    "show_weights(model, feature_names=list(X.columns), importance_type=\"weight\")"
   ]
  },
  {
   "cell_type": "code",
   "execution_count": 148,
   "metadata": {
    "ExecuteTime": {
     "end_time": "2017-05-20T13:46:19.726093Z",
     "start_time": "2017-05-20T13:36:05.585499Z"
    },
    "run_control": {
     "frozen": false,
     "read_only": false
    },
    "scrolled": true
   },
   "outputs": [
    {
     "name": "stdout",
     "output_type": "stream",
     "text": [
      "[CV]  ................................................................\n",
      "[CV] ................................................. , total= 3.3min\n",
      "[CV]  ................................................................"
     ]
    },
    {
     "name": "stderr",
     "output_type": "stream",
     "text": [
      "[Parallel(n_jobs=1)]: Done   1 out of   1 | elapsed:  3.3min remaining:    0.0s\n"
     ]
    },
    {
     "name": "stdout",
     "output_type": "stream",
     "text": [
      "\n",
      "[CV] ................................................. , total= 3.5min\n",
      "[CV]  ................................................................\n",
      "[CV] ................................................. , total= 3.4min\n",
      "(0.48691991486317548, array([ 0.53821961,  0.48457595,  0.43796419]))\n"
     ]
    },
    {
     "name": "stderr",
     "output_type": "stream",
     "text": [
      "[Parallel(n_jobs=1)]: Done   3 out of   3 | elapsed: 10.2min finished\n"
     ]
    }
   ],
   "source": [
    "from sklearn.model_selection import cross_val_score\n",
    "from sklearn.metrics import make_scorer\n",
    "\n",
    "def validate(clf):\n",
    "    cval = np.abs(cross_val_score(clf, X.values, y, cv=3, \n",
    "                                  scoring=make_scorer(rmsle, False), verbose=2))\n",
    "    return np.mean(cval), cval\n",
    "\n",
    "print validate(model)"
   ]
  },
  {
   "cell_type": "markdown",
   "metadata": {
    "run_control": {
     "frozen": false,
     "read_only": false
    }
   },
   "source": [
    "# Submission"
   ]
  },
  {
   "cell_type": "code",
   "execution_count": 379,
   "metadata": {
    "ExecuteTime": {
     "end_time": "2017-05-21T19:08:12.655099Z",
     "start_time": "2017-05-21T19:08:09.106847Z"
    },
    "run_control": {
     "frozen": false,
     "read_only": false
    }
   },
   "outputs": [
    {
     "name": "stdout",
     "output_type": "stream",
     "text": [
      "id,price_doc\r\n",
      "30474,5497280.0\r\n",
      "30475,8215873.5\r\n",
      "30476,5590106.0\r\n",
      "30477,5920538.0\r\n",
      "30478,5153178.0\r\n",
      "30479,7994372.5\r\n",
      "30480,4415410.5\r\n",
      "30481,3930074.0\r\n",
      "30482,4644629.0\r\n"
     ]
    }
   ],
   "source": [
    "test = pd.read_csv(\"data/test.csv\")\n",
    "\n",
    "test_pr = preprocess(test)\n",
    "test_pr = apply_categorial(test_pr, train_pr)\n",
    "test_pr = test_pr.fillna(-1)\n",
    "\n",
    "dtest = xgb.DMatrix(test_pr.values, feature_names=test_pr.columns)\n",
    "y_pred = model.predict(dtest)\n",
    "\n",
    "# y_pred = model.predict(test_pr.values)\n",
    "\n",
    "# y_pred = np.exp(y_pred) - 1\n",
    "\n",
    "submdf = pd.DataFrame({\"id\": test[\"id\"], \"price_doc\": y_pred})\n",
    "submdf.to_csv(\"data/submission.csv\", header=True, index=False)\n",
    "!head data/submission.csv"
   ]
  },
  {
   "cell_type": "markdown",
   "metadata": {
    "run_control": {
     "frozen": false,
     "read_only": false
    }
   },
   "source": [
    "without noise xgb logarithmic y\n",
    "\n",
    "    val-rmse:0.478924\n",
    "\n",
    "macro 10*400\n",
    "    \n",
    "    val-rmse:0.480618\n",
    "\n",
    "macro 5*200\n",
    "\n",
    "    val-rmse:0.476849\n",
    "\n",
    "macro 5*200 no month and year\n",
    "\n",
    "    val-rmse:0.477861\n",
    "\n",
    "macro 5*200 no month and year\n",
    "    \n",
    "    val-rmse:0.473012\n",
    "\n",
    "macro 5*200 no month and year\n",
    "\n",
    "    val-rmse:0.471758\n",
    "    predict-train: 0.427215115875\n",
    "\n",
    "macro 5*200 no month and year, train_without_noise\n",
    "\n",
    "    val-rmse:0.461684\n",
    "    train-rmse:0.411116+0.00299259\ttest-rmse:0.472202+0.00166791\n",
    "    predict-train: 0.423849149218\n",
    "    kaggle: 0.36027\n",
    "\n",
    "5*200, no macro no add features, train_without_noise:\n",
    "    \n",
    "    val-rmse:0.471989\n",
    "    train-rmse:0.425924+0.00643495\ttest-rmse:0.473873+0.0131213\n",
    "    predict-train: 0.43508730101\n",
    "\n",
    "5*200, no macro add rel features, train_without_noise:\n",
    "\n",
    "    val-rmse:0.471808\n",
    "    train-rmse:0.425264+0.00595741\ttest-rmse:0.47383+0.0130655\n",
    "    predict-train: 0.435635092773\n",
    "    kaggle: 0.32837\n",
    "\n",
    "5*200, no macro, add rel features, no log price, train_without_noise:\n",
    "    \n",
    "    val-rmse:2.63772e+06\n",
    "    train-rmse:1.9989e+06+10986.4\ttest-rmse:2.69158e+06+53020\n",
    "    predict-train: 2076010.27131\n",
    "    kaggle: 0.31720\n",
    "\n",
    "5*200, no macro, add rel features, no log price, train_with_noise:\n",
    "\n",
    "    val-rmse:2.53378e+06\n",
    "    train-rmse:1.95069e+06+16166.4\ttest-rmse:2.69703e+06+61455.1\n",
    "    predict-train: 2054421.59869\n",
    "    kaggle: 0.32056\n",
    "\n",
    "5*200, macro, add rel features, no log price, train_without_noise:\n",
    "    \n",
    "    val-rmse:2.79632e+06\n",
    "    train-rmse:1.81015e+06+19781.2\ttest-rmse:2.6641e+06+123875\n",
    "    predict-train: 1904063.27368\n",
    "    kaggle: 0.32976\n",
    "\n",
    "5*200, no macro, add rel features, no log price, train_without_noise:\n",
    "    \n",
    "    val-rmse:2.61682e+06\n",
    "    train-rmse:1.81123e+06+27681.2\ttest-rmse:2.66923e+06+53925.7\n",
    "    predict-train: 1899129.43771"
   ]
  },
  {
   "cell_type": "code",
   "execution_count": null,
   "metadata": {
    "run_control": {
     "frozen": false,
     "read_only": false
    }
   },
   "outputs": [],
   "source": []
  }
 ],
 "metadata": {
  "hide_input": false,
  "kernelspec": {
   "display_name": "Python 2",
   "language": "python",
   "name": "python2"
  },
  "language_info": {
   "codemirror_mode": {
    "name": "ipython",
    "version": 2
   },
   "file_extension": ".py",
   "mimetype": "text/x-python",
   "name": "python",
   "nbconvert_exporter": "python",
   "pygments_lexer": "ipython2",
   "version": "2.7.13"
  },
  "toc": {
   "colors": {
    "hover_highlight": "#DAA520",
    "running_highlight": "#FF0000",
    "selected_highlight": "#FFD700"
   },
   "moveMenuLeft": true,
   "nav_menu": {
    "height": "102px",
    "width": "252px"
   },
   "navigate_menu": true,
   "number_sections": true,
   "sideBar": true,
   "threshold": 4,
   "toc_cell": false,
   "toc_section_display": "block",
   "toc_window_display": false,
   "widenNotebook": false
  }
 },
 "nbformat": 4,
 "nbformat_minor": 2
}
