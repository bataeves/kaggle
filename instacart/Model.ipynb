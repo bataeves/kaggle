{
 "cells": [
  {
   "cell_type": "code",
   "execution_count": 1,
   "metadata": {
    "ExecuteTime": {
     "end_time": "2017-08-06T14:13:12.514931Z",
     "start_time": "2017-08-06T14:12:58.213106Z"
    }
   },
   "outputs": [
    {
     "name": "stderr",
     "output_type": "stream",
     "text": [
      "/home/ubuntu/.venv/local/lib/python2.7/site-packages/sklearn/cross_validation.py:44: DeprecationWarning: This module was deprecated in version 0.18 in favor of the model_selection module into which all the refactored classes and functions are moved. Also note that the interface of the new CV iterators are different from that of this module. This module will be removed in 0.20.\n",
      "  \"This module will be removed in 0.20.\", DeprecationWarning)\n",
      "/home/ubuntu/.venv/local/lib/python2.7/site-packages/IPython/config.py:13: ShimWarning: The `IPython.config` package has been deprecated since IPython 4.0. You should import from traitlets.config instead.\n",
      "  \"You should import from traitlets.config instead.\", ShimWarning)\n",
      "/home/ubuntu/.venv/local/lib/python2.7/site-packages/IPython/utils/traitlets.py:5: UserWarning: IPython.utils.traitlets has moved to a top-level traitlets package.\n",
      "  warn(\"IPython.utils.traitlets has moved to a top-level traitlets package.\")\n"
     ]
    },
    {
     "name": "stdout",
     "output_type": "stream",
     "text": [
      "loading prior\n",
      "loading train\n",
      "loading orders\n",
      "loading products\n",
      "priors (32434489, 4): order_id, product_id, add_to_cart_order, reordered\n",
      "orders (3421083, 7): order_id, user_id, eval_set, order_number, order_dow, order_hour_of_day, days_since_prior_order\n",
      "train (1384617, 4): order_id, product_id, add_to_cart_order, reordered\n",
      "Total departments: 21\n",
      "Total aisles: 134\n"
     ]
    }
   ],
   "source": [
    "# This script considers all the products a user has ordered\n",
    "#\n",
    "# We train a model computing the probability of reorder on the \"train\" data\n",
    "#\n",
    "# For the submission, we keep the orders that have a probability of\n",
    "# reorder higher than a threshold\n",
    "\n",
    "from IPython.core.interactiveshell import InteractiveShell\n",
    "InteractiveShell.ast_node_interactivity = \"all\"\n",
    "\n",
    "import numpy as np\n",
    "import pandas as pd\n",
    "import lightgbm as lgb\n",
    "import xgboost as xgb\n",
    "import gc\n",
    "from tqdm import tqdm, tqdm_notebook\n",
    "\n",
    "tqdm.pandas(desc=\"\")\n",
    "\n",
    "%load_ext ipycache\n",
    "\n",
    "IDIR = 'input/'\n",
    "\n",
    "\n",
    "print('loading prior')\n",
    "priors = pd.read_csv(\n",
    "    IDIR + 'order_products__prior.csv', \n",
    "    dtype=dict(\n",
    "        order_id=np.int32,\n",
    "        add_to_cart_order=np.int16,\n",
    "        reordered=np.int8,\n",
    "        product_id=np.int32\n",
    "    )\n",
    ")\n",
    "print('loading train')\n",
    "op_train = pd.read_csv(\n",
    "    IDIR + 'order_products__train.csv',\n",
    "    dtype=dict(reordered=np.int8, add_to_cart_order=np.int16)\n",
    ")\n",
    "op_train.set_index(['order_id', 'product_id'], inplace=True, drop=False)\n",
    "\n",
    "print('loading orders')\n",
    "eval_sets = [\"prior\", \"train\", \"test\"]\n",
    "orders = pd.read_csv(\n",
    "    IDIR + 'orders.csv',\n",
    "    dtype=dict(\n",
    "        order_dow=np.int8,\n",
    "        order_hour_of_day=np.int8,\n",
    "        order_number=np.int16,\n",
    "        order_id=np.int32,\n",
    "        user_id=np.int32,\n",
    "        days_since_prior_order=np.float32,\n",
    "    )\n",
    ")\n",
    "orders[\"eval_set\"] = orders[\"eval_set\"].apply(eval_sets.index).astype(np.int8)\n",
    "orders.set_index('order_id', inplace=True, drop=False)\n",
    "\n",
    "print('loading products')\n",
    "products = pd.read_csv(\n",
    "    IDIR + 'products.csv',\n",
    "    dtype=dict(\n",
    "        aisle_id=np.int16,\n",
    "        department_id=np.int16,\n",
    "        product_id=np.int32\n",
    "    )\n",
    ")\n",
    "products.drop(['product_name'], axis=1, inplace=True)\n",
    "\n",
    "departments = pd.read_csv(IDIR + 'departments.csv')\n",
    "aisles = pd.read_csv(IDIR + 'aisles.csv')\n",
    "\n",
    "print('priors {}: {}'.format(priors.shape, ', '.join(priors.columns)))\n",
    "print('orders {}: {}'.format(orders.shape, ', '.join(orders.columns)))\n",
    "print('train {}: {}'.format(op_train.shape, ', '.join(op_train.columns)))\n",
    "print('Total departments: {}'.format(departments.shape[0]))\n",
    "print('Total aisles: {}'.format(aisles.shape[0]))"
   ]
  },
  {
   "cell_type": "code",
   "execution_count": 2,
   "metadata": {
    "ExecuteTime": {
     "end_time": "2017-08-06T14:13:13.905290Z",
     "start_time": "2017-08-06T14:13:12.877337Z"
    }
   },
   "outputs": [
    {
     "data": {
      "text/plain": [
       "104"
      ]
     },
     "execution_count": 2,
     "metadata": {},
     "output_type": "execute_result"
    }
   ],
   "source": [
    "# Week No\n",
    "o1_gr = orders.groupby(\"user_id\").agg({\"days_since_prior_order\": \"cumsum\"})\n",
    "orders[\"user_weekno\"] = (o1_gr[\"days_since_prior_order\"] / 7).round().fillna(0)\n",
    "\n",
    "orders = orders.merge(\n",
    "    orders.groupby(\"user_id\").agg({\"user_weekno\": \"max\"}).rename(\n",
    "        columns={\"user_weekno\": \"user_weekno_max\"}\n",
    "    ).reset_index(),\n",
    "    on=\"user_id\",\n",
    "    how=\"left\"\n",
    ")\n",
    "\n",
    "orders[\"user_weekno_rev\"] = abs(orders.user_weekno_max - orders.user_weekno).astype(np.int8)\n",
    "orders = orders.drop(\"user_weekno_max\", axis=1)\n",
    "gc.collect()"
   ]
  },
  {
   "cell_type": "markdown",
   "metadata": {},
   "source": [
    "# Features"
   ]
  },
  {
   "cell_type": "markdown",
   "metadata": {},
   "source": [
    "https://www.kaggle.com/c/instacart-market-basket-analysis/discussion/35468\n",
    "\n",
    "Here are some feature ideas that can help new participants get started and may be you will find something you have missed:"
   ]
  },
  {
   "cell_type": "code",
   "execution_count": 3,
   "metadata": {
    "ExecuteTime": {
     "end_time": "2017-08-06T14:13:31.354554Z",
     "start_time": "2017-08-06T14:13:14.234136Z"
    }
   },
   "outputs": [],
   "source": [
    "priors = priors.join(orders, on='order_id', rsuffix='_')\n",
    "priors = priors.join(products, on='product_id', rsuffix='_')\n",
    "priors.drop(['product_id_', 'order_id_'], inplace=True, axis=1)"
   ]
  },
  {
   "cell_type": "markdown",
   "metadata": {},
   "source": [
    "## User\n",
    "* ~~Products purchased (total_distinct_items)~~\n",
    "* ~~Orders made (nb_orders)~~\n",
    "* ~~frequency and recency of orders (average_days_between_orders)~~\n",
    "* Aisle purchased from\n",
    "* Department purchased from\n",
    "* ~~frequency and recency of reorders~~\n",
    "* tenure\n",
    "* ~~mean order size (average basket)~~\n",
    "* etc."
   ]
  },
  {
   "cell_type": "code",
   "execution_count": 4,
   "metadata": {
    "ExecuteTime": {
     "end_time": "2017-08-06T14:14:34.804592Z",
     "start_time": "2017-08-06T14:13:31.775305Z"
    }
   },
   "outputs": [
    {
     "data": {
      "text/plain": [
       "91"
      ]
     },
     "execution_count": 4,
     "metadata": {},
     "output_type": "execute_result"
    },
    {
     "name": "stdout",
     "output_type": "stream",
     "text": [
      "user f (206208, 12)\n"
     ]
    }
   ],
   "source": [
    "usr = pd.DataFrame()\n",
    "o_grouped = orders.groupby('user_id')\n",
    "p_grouped = priors.groupby('user_id')\n",
    "\n",
    "usr['average_days_between_orders'] = o_grouped.days_since_prior_order.mean()\n",
    "usr['max_days_between_orders'] = o_grouped.days_since_prior_order.max()\n",
    "usr['min_days_between_orders'] = o_grouped.days_since_prior_order.min()\n",
    "usr['std_days_between_orders'] = o_grouped.days_since_prior_order.std()\n",
    "\n",
    "usr[\"period\"] = o_grouped.days_since_prior_order.fillna(0).sum()\n",
    "usr['nb_orders'] = o_grouped.size().astype(np.int16)\n",
    "\n",
    "users = pd.DataFrame()\n",
    "users['total_items'] = p_grouped.size().astype(np.int16)\n",
    "users['all_products'] = p_grouped['product_id'].apply(set)\n",
    "users['total_distinct_items'] = (users.all_products.map(len)).astype(np.int16)\n",
    "\n",
    "users['reorders'] = p_grouped[\"reordered\"].sum()\n",
    "users['reorder_rate'] = (users.reorders / usr.nb_orders)\n",
    "\n",
    "users = users.join(usr)\n",
    "del usr, o_grouped, p_grouped\n",
    "users['average_basket'] = (users.total_items / users.nb_orders).astype(np.float32)\n",
    "gc.collect()\n",
    "print('user f', users.shape)"
   ]
  },
  {
   "cell_type": "code",
   "execution_count": 5,
   "metadata": {
    "ExecuteTime": {
     "end_time": "2017-08-06T14:14:35.710695Z",
     "start_time": "2017-08-06T14:14:35.701492Z"
    }
   },
   "outputs": [],
   "source": [
    "def merge_user_features(df):\n",
    "    df['user_total_orders'] = df.user_id.map(users.nb_orders)\n",
    "    df['user_total_items'] = df.user_id.map(users.total_items)\n",
    "    df['user_total_distinct_items'] = df.user_id.map(users.total_distinct_items)\n",
    "    df['user_average_days_between_orders'] = df.user_id.map(users.average_days_between_orders)\n",
    "    df['user_max_days_between_orders'] = df.user_id.map(users.max_days_between_orders)\n",
    "    df['user_min_days_between_orders'] = df.user_id.map(users.min_days_between_orders)\n",
    "    df['user_std_days_between_orders'] = df.user_id.map(users.std_days_between_orders)\n",
    "    df['user_average_basket'] =  df.user_id.map(users.average_basket)\n",
    "    df['user_period'] =  df.user_id.map(users.period)\n",
    "    return df"
   ]
  },
  {
   "cell_type": "markdown",
   "metadata": {},
   "source": [
    "## Product\n",
    "* ~~users~~\n",
    "* ~~orders~~\n",
    "* ~~order frequency~~\n",
    "* ~~reorder rate~~\n",
    "* recency\n",
    "* ~~mean/std add_to_cart_order~~\n",
    "* Срок годности/время перепокупки\n",
    "* etc."
   ]
  },
  {
   "cell_type": "code",
   "execution_count": 6,
   "metadata": {
    "ExecuteTime": {
     "end_time": "2017-08-06T14:15:00.115244Z",
     "start_time": "2017-08-06T14:14:36.547028Z"
    }
   },
   "outputs": [
    {
     "data": {
      "text/plain": [
       "321"
      ]
     },
     "execution_count": 6,
     "metadata": {},
     "output_type": "execute_result"
    }
   ],
   "source": [
    "prods = pd.DataFrame()\n",
    "p_grouped = priors.groupby(priors.product_id)\n",
    "\n",
    "prods['orders'] = p_grouped.size().astype(np.float32)\n",
    "prods['order_freq'] = (prods['orders'] / len(priors.order_id.unique()))\n",
    "prods['users'] = p_grouped.user_id.unique().apply(len)\n",
    "prods['add_to_cart_order_mean'] = p_grouped.add_to_cart_order.mean().astype(np.float32)\n",
    "prods['add_to_cart_order_std'] = p_grouped.add_to_cart_order.std().astype(np.float32)\n",
    "\n",
    "prods['reorders'] = p_grouped['reordered'].sum().astype(np.float32)\n",
    "prods['reorder_rate'] = (prods.reorders / prods.orders).astype(np.float32)\n",
    "\n",
    "products = products.join(prods, on='product_id')\n",
    "products.set_index('product_id', drop=False, inplace=True)\n",
    "del prods, p_grouped\n",
    "gc.collect()"
   ]
  },
  {
   "cell_type": "code",
   "execution_count": 7,
   "metadata": {
    "ExecuteTime": {
     "end_time": "2017-08-06T14:15:01.085572Z",
     "start_time": "2017-08-06T14:15:01.075029Z"
    }
   },
   "outputs": [],
   "source": [
    "def merge_product_features(df):\n",
    "    df['product_orders'] = df.product_id.map(products.orders).astype(np.float32)\n",
    "    df['product_users'] = df.product_id.map(products.users).astype(np.float32)\n",
    "    df['product_order_freq'] = df.product_id.map(products.order_freq).astype(np.float32)\n",
    "    df['product_reorders'] = df.product_id.map(products.reorders).astype(np.float32)\n",
    "    df['product_reorder_rate'] = df.product_id.map(products.reorder_rate).astype(np.float32)\n",
    "    df['product_add_to_cart_order_mean'] = df.product_id.map(products.add_to_cart_order_mean).astype(np.float32)\n",
    "    df['product_add_to_cart_order_std'] = df.product_id.map(products.add_to_cart_order_std).astype(np.float32)\n",
    "    return df"
   ]
  },
  {
   "cell_type": "markdown",
   "metadata": {
    "ExecuteTime": {
     "end_time": "2017-08-05T11:27:29.358854Z",
     "start_time": "2017-08-05T11:27:29.350904Z"
    }
   },
   "source": [
    "## Aisle\n",
    "* ~~users~~\n",
    "* ~~orders~~\n",
    "* ~~order frequency~~\n",
    "* ~~reorder rate~~\n",
    "* recency\n",
    "* ~~mean/std add_to_cart_order~~\n",
    "* Срок годности/время перепокупки\n",
    "* etc."
   ]
  },
  {
   "cell_type": "code",
   "execution_count": 8,
   "metadata": {
    "ExecuteTime": {
     "end_time": "2017-08-06T14:15:10.526368Z",
     "start_time": "2017-08-06T14:15:01.932977Z"
    }
   },
   "outputs": [],
   "source": [
    "prods = pd.DataFrame()\n",
    "p_grouped = priors.groupby(priors.aisle_id)\n",
    "\n",
    "prods['orders'] = p_grouped.size().astype(np.float32)\n",
    "prods['order_freq'] = (prods['orders'] / len(priors.order_id.unique())).astype(np.float32)\n",
    "prods['users'] = p_grouped.user_id.unique().apply(len).astype(np.float32)\n",
    "prods['add_to_cart_order_mean'] = p_grouped.add_to_cart_order.mean().astype(np.float32)\n",
    "prods['add_to_cart_order_std'] = p_grouped.add_to_cart_order.std().astype(np.float32)\n",
    "\n",
    "prods['reorders'] = p_grouped['reordered'].sum().astype(np.float32)\n",
    "prods['reorder_rate'] = (prods.reorders / prods.orders).astype(np.float32)\n",
    "\n",
    "aisles.set_index('aisle_id', drop=False, inplace=True)\n",
    "aisles = aisles.join(prods)\n",
    "\n",
    "del prods, p_grouped"
   ]
  },
  {
   "cell_type": "code",
   "execution_count": 9,
   "metadata": {
    "ExecuteTime": {
     "end_time": "2017-08-06T14:15:11.544521Z",
     "start_time": "2017-08-06T14:15:11.536712Z"
    }
   },
   "outputs": [],
   "source": [
    "def merge_aisle_features(df):\n",
    "    df['aisle_orders'] = df.aisle_id.map(aisles.orders)\n",
    "    df['aisle_users'] = df.aisle_id.map(aisles.users)\n",
    "    df['aisle_order_freq'] = df.aisle_id.map(aisles.order_freq)\n",
    "    df['aisle_reorders'] = df.aisle_id.map(aisles.reorders)\n",
    "    df['aisle_reorder_rate'] = df.aisle_id.map(aisles.reorder_rate)\n",
    "    df['aisle_add_to_cart_order_mean'] = df.aisle_id.map(aisles.add_to_cart_order_mean)\n",
    "    df['aisle_add_to_cart_order_std'] = df.aisle_id.map(aisles.add_to_cart_order_std)\n",
    "    return df"
   ]
  },
  {
   "cell_type": "markdown",
   "metadata": {},
   "source": [
    "## Department\n",
    "* ~~users~~\n",
    "* ~~orders~~\n",
    "* ~~order frequency~~\n",
    "* ~~reorder rate~~\n",
    "* recency\n",
    "* ~~mean add_to_cart_order~~\n",
    "* Срок годности/время перепокупки\n",
    "* etc."
   ]
  },
  {
   "cell_type": "code",
   "execution_count": 10,
   "metadata": {
    "ExecuteTime": {
     "end_time": "2017-08-06T14:15:18.212496Z",
     "start_time": "2017-08-06T14:15:12.503301Z"
    }
   },
   "outputs": [],
   "source": [
    "prods = pd.DataFrame()\n",
    "p_grouped = priors.groupby(priors.department_id)\n",
    "\n",
    "prods['orders'] = p_grouped.size().astype(np.float32)\n",
    "prods['order_freq'] = (prods['orders'] / len(priors.order_id.unique())).astype(np.float32)\n",
    "prods['users'] = p_grouped.user_id.unique().apply(len).astype(np.float32)\n",
    "prods['add_to_cart_order_mean'] = p_grouped.add_to_cart_order.mean().astype(np.float32)\n",
    "prods['add_to_cart_order_std'] = p_grouped.add_to_cart_order.std().astype(np.float32)\n",
    "\n",
    "prods['reorders'] = p_grouped['reordered'].sum().astype(np.float32)\n",
    "prods['reorder_rate'] = (prods.reorders / prods.orders).astype(np.float32)\n",
    "\n",
    "departments.set_index('department_id', drop=False, inplace=True)\n",
    "departments = departments.join(prods)\n",
    "\n",
    "del prods, p_grouped"
   ]
  },
  {
   "cell_type": "code",
   "execution_count": 11,
   "metadata": {
    "ExecuteTime": {
     "end_time": "2017-08-06T14:15:19.319573Z",
     "start_time": "2017-08-06T14:15:19.311433Z"
    }
   },
   "outputs": [],
   "source": [
    "def merge_department_features(df):\n",
    "    df['department_orders'] = df.department_id.map(departments.orders)\n",
    "    df['department_users'] = df.department_id.map(departments.users)\n",
    "    df['department_order_freq'] = df.department_id.map(departments.order_freq)\n",
    "    df['department_reorders'] = df.department_id.map(departments.reorders)\n",
    "    df['department_reorder_rate'] = df.department_id.map(departments.reorder_rate)\n",
    "    df['department_add_to_cart_order_mean'] = df.department_id.map(departments.add_to_cart_order_mean)\n",
    "    df['department_add_to_cart_order_std'] = df.department_id.map(departments.add_to_cart_order_std)\n",
    "    return df"
   ]
  },
  {
   "cell_type": "markdown",
   "metadata": {},
   "source": [
    "## User Product Interaction (UP)\n",
    "* ~~purchases (nb_orders)~~\n",
    "* ~~purchases ratio~~\n",
    "* ~~reorders~~\n",
    "* ~~Average position in cart~~\n",
    "* day since last purchase\n",
    "* average/min/max days between purchase\n",
    "* day since last purchase - срок годности\n",
    "* ~~order since last purchase (UP_orders_since_last)~~\n",
    "* Latest one/two/three/four week features\n",
    "* etc."
   ]
  },
  {
   "cell_type": "code",
   "execution_count": 12,
   "metadata": {
    "ExecuteTime": {
     "end_time": "2017-08-06T14:45:51.613101Z",
     "start_time": "2017-08-06T14:15:20.262884Z"
    }
   },
   "outputs": [
    {
     "name": "stdout",
     "output_type": "stream",
     "text": [
      "[Saved variables userXproduct to file '/home/ubuntu/kaggle/instacart/userXproduct.pkl'.]\n",
      "\r",
      "          \r",
      "24760241/|/ 76%|| 24760241/32434489 [03:46<01:10, 109474.08it/s]\r",
      "          \r",
      "25134338/|/ 77%|| 25134338/32434489 [04:10<01:12, 100389.58it/s]\n",
      "to dataframe (less memory)\n",
      "user X product f 29302795\n"
     ]
    },
    {
     "data": {
      "application/vnd.jupyter.widget-view+json": {
       "model_id": "b2a7938362f848d79b3eafc84bc4882e"
      }
     },
     "metadata": {},
     "output_type": "display_data"
    },
    {
     "data": {
      "text/plain": [
       "7"
      ]
     },
     "metadata": {},
     "output_type": "display_data"
    }
   ],
   "source": [
    "%%cache userXproduct.pkl userXproduct\n",
    "\n",
    "priors['z'] = priors.product_id + priors.user_id * 100000\n",
    "\n",
    "d = dict()\n",
    "for row in tqdm_notebook(priors.itertuples(), total=len(priors)):\n",
    "    z = row.z\n",
    "    if z not in d:\n",
    "        d[z] = (\n",
    "            1,\n",
    "            (row.order_number, row.order_id),\n",
    "            row.add_to_cart_order,\n",
    "            row.reordered\n",
    "        )\n",
    "    else:\n",
    "        d[z] = (\n",
    "            d[z][0] + 1,\n",
    "            max(d[z][1], (row.order_number, row.order_id)),\n",
    "            d[z][2] + row.add_to_cart_order,\n",
    "            d[z][3] + row.reordered\n",
    "        )\n",
    "\n",
    "priors.drop(['z'], axis=1, inplace=True)\n",
    "\n",
    "print('to dataframe (less memory)')\n",
    "userXproduct = pd.DataFrame.from_dict(d, orient='index')\n",
    "del d\n",
    "gc.collect()\n",
    "userXproduct.columns = ['nb_orders', 'last_order_id', 'sum_pos_in_cart', 'reorders']\n",
    "\n",
    "userXproduct.nb_orders = userXproduct.nb_orders.astype(np.int16)\n",
    "userXproduct.last_order_id = userXproduct.last_order_id.map(lambda x: x[1]).astype(np.int32)\n",
    "userXproduct.sum_pos_in_cart = userXproduct.sum_pos_in_cart.astype(np.int16)\n",
    "userXproduct.reorders = userXproduct.reorders.astype(np.int16)\n",
    "\n",
    "print('user X product f', len(userXproduct))"
   ]
  },
  {
   "cell_type": "code",
   "execution_count": 13,
   "metadata": {
    "ExecuteTime": {
     "end_time": "2017-08-06T14:45:55.853056Z",
     "start_time": "2017-08-06T14:45:55.720770Z"
    }
   },
   "outputs": [],
   "source": [
    "def merge_user_X_product_features(df):\n",
    "    df['z'] = df.product_id + df.user_id * 100000\n",
    "    df['UP_orders'] = df.z.map(userXproduct.nb_orders)\n",
    "    df['UP_orders_ratio'] = (df.UP_orders / df.user_total_orders)\n",
    "    df['UP_last_order_id'] = df.z.map(userXproduct.last_order_id)\n",
    "    df['UP_average_pos_in_cart'] = (df.z.map(userXproduct.sum_pos_in_cart) / df.UP_orders)\n",
    "    df['UP_reorders'] = df.z.map(userXproduct.reorders)\n",
    "    df['UP_orders_since_last'] = df.user_total_orders - df.UP_last_order_id.map(orders.order_number)\n",
    "    #df['UP_days_since_last'] = \n",
    "#     df['UP_delta_hour_vs_last'] = abs(\n",
    "#         df.order_hour_of_day - df.UP_last_order_id.map(orders.order_hour_of_day)\n",
    "#     ).map(lambda x: min(x, 24-x)).astype(np.int8)\n",
    "    \n",
    "    #df['UP_same_dow_as_last_order'] = df.UP_last_order_id.map(orders.order_dow) == \\\n",
    "    #                                              df.order_id.map(orders.order_dow)\n",
    "\n",
    "    df.drop(['UP_last_order_id', 'z'], axis=1, inplace=True)\n",
    "    return df"
   ]
  },
  {
   "cell_type": "markdown",
   "metadata": {},
   "source": [
    "## User aisle interaction (UA)\n",
    "* purchases\n",
    "* reorders\n",
    "* day since last purchase\n",
    "* average/min/max days between purchase\n",
    "* order since last purchase\n",
    "* etc."
   ]
  },
  {
   "cell_type": "markdown",
   "metadata": {},
   "source": [
    "## User department interaction (UD)\n",
    "* purchases\n",
    "* reorders\n",
    "* day since last purchase\n",
    "* average days between purchase\n",
    "* order since last purchase\n",
    "* etc."
   ]
  },
  {
   "cell_type": "markdown",
   "metadata": {},
   "source": [
    "## User time interaction (UT)\n",
    "* user preferred day of week\n",
    "* user preferred time of day\n",
    "* similar features for products and aisles"
   ]
  },
  {
   "cell_type": "markdown",
   "metadata": {},
   "source": [
    "## Combine"
   ]
  },
  {
   "cell_type": "code",
   "execution_count": 14,
   "metadata": {
    "ExecuteTime": {
     "end_time": "2017-08-06T14:53:08.851450Z",
     "start_time": "2017-08-06T14:52:41.505497Z"
    }
   },
   "outputs": [],
   "source": [
    "### build list of candidate products to reorder, with features ###\n",
    "train_index = set(op_train.index)\n",
    "\n",
    "def features(selected_orders, labels_given=False):\n",
    "    order_list = []\n",
    "    product_list = []\n",
    "    labels = []\n",
    "    for row in tqdm_notebook(\n",
    "        selected_orders.itertuples(), \n",
    "        total=len(selected_orders)\n",
    "    ):\n",
    "        order_id = row.order_id\n",
    "        user_id = row.user_id\n",
    "        user_products = users.all_products[user_id]\n",
    "        product_list += user_products\n",
    "        order_list += [order_id] * len(user_products)\n",
    "        if labels_given:\n",
    "            labels += [\n",
    "                (order_id, product) in train_index \n",
    "                for product in user_products\n",
    "            ]\n",
    "        \n",
    "    df = pd.DataFrame({'order_id': order_list, 'product_id': product_list})\n",
    "\n",
    "    df.order_id = df.order_id.astype(np.int32)\n",
    "    df.product_id = df.product_id.astype(np.int32)\n",
    "\n",
    "    del order_list\n",
    "    del product_list\n",
    "\n",
    "    df['user_id'] = df.order_id.map(orders.user_id)\n",
    "    df['aisle_id'] = df.product_id.map(products.aisle_id).astype(np.int8)\n",
    "    df['department_id'] = df.product_id.map(products.department_id).astype(np.int8)\n",
    "\n",
    "    labels = np.array(labels, dtype=np.int8)\n",
    "\n",
    "    print('user related features')\n",
    "    df = merge_user_features(df)\n",
    "\n",
    "    print('order related features')\n",
    "    df['dow'] = df.order_id.map(orders.order_dow)\n",
    "    df['order_hour_of_day'] = df.order_id.map(orders.order_hour_of_day)\n",
    "    df['days_since_prior_order'] = df.order_id.map(orders.days_since_prior_order)\n",
    "    df['days_since_ratio'] = df.days_since_prior_order / df.user_average_days_between_orders\n",
    "    \n",
    "    print('product related features')\n",
    "    df = merge_product_features(df)\n",
    "\n",
    "    print('aisle related features')\n",
    "    df = merge_aisle_features(df)\n",
    "\n",
    "    print('department related features')\n",
    "    df = merge_department_features(df)\n",
    "\n",
    "    print('user_X_product related features')\n",
    "    df = merge_user_X_product_features(df)\n",
    "\n",
    "    return (df, labels)\n"
   ]
  },
  {
   "cell_type": "code",
   "execution_count": 15,
   "metadata": {
    "ExecuteTime": {
     "end_time": "2017-08-06T14:57:54.721382Z",
     "start_time": "2017-08-06T14:53:18.276551Z"
    }
   },
   "outputs": [
    {
     "name": "stdout",
     "output_type": "stream",
     "text": [
      "split orders : train, test\n"
     ]
    },
    {
     "data": {
      "application/vnd.jupyter.widget-view+json": {
       "model_id": "ed48f8ce01644622a8ec748869070846"
      }
     },
     "metadata": {},
     "output_type": "display_data"
    },
    {
     "name": "stdout",
     "output_type": "stream",
     "text": [
      "\n",
      "user related features\n",
      "order related features\n",
      "product related features\n",
      "aisle related features\n",
      "department related features\n",
      "user_X_product related features\n"
     ]
    },
    {
     "ename": "InvalidIndexError",
     "evalue": "Reindexing only valid with uniquely valued Index objects",
     "output_type": "error",
     "traceback": [
      "\u001b[0;31m---------------------------------------------------------------------------\u001b[0m",
      "\u001b[0;31mInvalidIndexError\u001b[0m                         Traceback (most recent call last)",
      "\u001b[0;32m<ipython-input-15-b2faa0d45cd1>\u001b[0m in \u001b[0;36m<module>\u001b[0;34m()\u001b[0m\n\u001b[1;32m      5\u001b[0m \u001b[0mtrain_orders\u001b[0m \u001b[0;34m=\u001b[0m \u001b[0morders\u001b[0m\u001b[0;34m[\u001b[0m\u001b[0morders\u001b[0m\u001b[0;34m.\u001b[0m\u001b[0meval_set\u001b[0m \u001b[0;34m==\u001b[0m \u001b[0;36m1\u001b[0m\u001b[0;34m]\u001b[0m\u001b[0;34m\u001b[0m\u001b[0m\n\u001b[1;32m      6\u001b[0m \u001b[0;34m\u001b[0m\u001b[0m\n\u001b[0;32m----> 7\u001b[0;31m \u001b[0mdf_train\u001b[0m\u001b[0;34m,\u001b[0m \u001b[0mlabels\u001b[0m \u001b[0;34m=\u001b[0m \u001b[0mfeatures\u001b[0m\u001b[0;34m(\u001b[0m\u001b[0mtrain_orders\u001b[0m\u001b[0;34m,\u001b[0m \u001b[0mlabels_given\u001b[0m\u001b[0;34m=\u001b[0m\u001b[0mTrue\u001b[0m\u001b[0;34m)\u001b[0m\u001b[0;34m\u001b[0m\u001b[0m\n\u001b[0m\u001b[1;32m      8\u001b[0m \u001b[0;32mdel\u001b[0m \u001b[0mtrain_orders\u001b[0m\u001b[0;34m\u001b[0m\u001b[0m\n\u001b[1;32m      9\u001b[0m \u001b[0mgc\u001b[0m\u001b[0;34m.\u001b[0m\u001b[0mcollect\u001b[0m\u001b[0;34m(\u001b[0m\u001b[0;34m)\u001b[0m\u001b[0;34m\u001b[0m\u001b[0m\n",
      "\u001b[0;32m<ipython-input-14-5b32ef7a5939>\u001b[0m in \u001b[0;36mfeatures\u001b[0;34m(selected_orders, labels_given)\u001b[0m\n\u001b[1;32m     54\u001b[0m \u001b[0;34m\u001b[0m\u001b[0m\n\u001b[1;32m     55\u001b[0m     \u001b[0;32mprint\u001b[0m\u001b[0;34m(\u001b[0m\u001b[0;34m'user_X_product related features'\u001b[0m\u001b[0;34m)\u001b[0m\u001b[0;34m\u001b[0m\u001b[0m\n\u001b[0;32m---> 56\u001b[0;31m     \u001b[0mdf\u001b[0m \u001b[0;34m=\u001b[0m \u001b[0mmerge_user_X_product_features\u001b[0m\u001b[0;34m(\u001b[0m\u001b[0mdf\u001b[0m\u001b[0;34m)\u001b[0m\u001b[0;34m\u001b[0m\u001b[0m\n\u001b[0m\u001b[1;32m     57\u001b[0m \u001b[0;34m\u001b[0m\u001b[0m\n\u001b[1;32m     58\u001b[0m     \u001b[0;32mreturn\u001b[0m \u001b[0;34m(\u001b[0m\u001b[0mdf\u001b[0m\u001b[0;34m,\u001b[0m \u001b[0mlabels\u001b[0m\u001b[0;34m)\u001b[0m\u001b[0;34m\u001b[0m\u001b[0m\n",
      "\u001b[0;32m<ipython-input-13-5bbc2f2d3988>\u001b[0m in \u001b[0;36mmerge_user_X_product_features\u001b[0;34m(df)\u001b[0m\n\u001b[1;32m      1\u001b[0m \u001b[0;32mdef\u001b[0m \u001b[0mmerge_user_X_product_features\u001b[0m\u001b[0;34m(\u001b[0m\u001b[0mdf\u001b[0m\u001b[0;34m)\u001b[0m\u001b[0;34m:\u001b[0m\u001b[0;34m\u001b[0m\u001b[0m\n\u001b[1;32m      2\u001b[0m     \u001b[0mdf\u001b[0m\u001b[0;34m[\u001b[0m\u001b[0;34m'z'\u001b[0m\u001b[0;34m]\u001b[0m \u001b[0;34m=\u001b[0m \u001b[0mdf\u001b[0m\u001b[0;34m.\u001b[0m\u001b[0mproduct_id\u001b[0m \u001b[0;34m+\u001b[0m \u001b[0mdf\u001b[0m\u001b[0;34m.\u001b[0m\u001b[0muser_id\u001b[0m \u001b[0;34m*\u001b[0m \u001b[0;36m100000\u001b[0m\u001b[0;34m\u001b[0m\u001b[0m\n\u001b[0;32m----> 3\u001b[0;31m     \u001b[0mdf\u001b[0m\u001b[0;34m[\u001b[0m\u001b[0;34m'UP_orders'\u001b[0m\u001b[0;34m]\u001b[0m \u001b[0;34m=\u001b[0m \u001b[0mdf\u001b[0m\u001b[0;34m.\u001b[0m\u001b[0mz\u001b[0m\u001b[0;34m.\u001b[0m\u001b[0mmap\u001b[0m\u001b[0;34m(\u001b[0m\u001b[0muserXproduct\u001b[0m\u001b[0;34m.\u001b[0m\u001b[0mnb_orders\u001b[0m\u001b[0;34m)\u001b[0m\u001b[0;34m\u001b[0m\u001b[0m\n\u001b[0m\u001b[1;32m      4\u001b[0m     \u001b[0mdf\u001b[0m\u001b[0;34m[\u001b[0m\u001b[0;34m'UP_orders_ratio'\u001b[0m\u001b[0;34m]\u001b[0m \u001b[0;34m=\u001b[0m \u001b[0;34m(\u001b[0m\u001b[0mdf\u001b[0m\u001b[0;34m.\u001b[0m\u001b[0mUP_orders\u001b[0m \u001b[0;34m/\u001b[0m \u001b[0mdf\u001b[0m\u001b[0;34m.\u001b[0m\u001b[0muser_total_orders\u001b[0m\u001b[0;34m)\u001b[0m\u001b[0;34m\u001b[0m\u001b[0m\n\u001b[1;32m      5\u001b[0m     \u001b[0mdf\u001b[0m\u001b[0;34m[\u001b[0m\u001b[0;34m'UP_last_order_id'\u001b[0m\u001b[0;34m]\u001b[0m \u001b[0;34m=\u001b[0m \u001b[0mdf\u001b[0m\u001b[0;34m.\u001b[0m\u001b[0mz\u001b[0m\u001b[0;34m.\u001b[0m\u001b[0mmap\u001b[0m\u001b[0;34m(\u001b[0m\u001b[0muserXproduct\u001b[0m\u001b[0;34m.\u001b[0m\u001b[0mlast_order_id\u001b[0m\u001b[0;34m)\u001b[0m\u001b[0;34m\u001b[0m\u001b[0m\n",
      "\u001b[0;32m/home/ubuntu/.venv/local/lib/python2.7/site-packages/pandas/core/series.pyc\u001b[0m in \u001b[0;36mmap\u001b[0;34m(self, arg, na_action)\u001b[0m\n\u001b[1;32m   2152\u001b[0m         \u001b[0;32mif\u001b[0m \u001b[0misinstance\u001b[0m\u001b[0;34m(\u001b[0m\u001b[0marg\u001b[0m\u001b[0;34m,\u001b[0m \u001b[0mSeries\u001b[0m\u001b[0;34m)\u001b[0m\u001b[0;34m:\u001b[0m\u001b[0;34m\u001b[0m\u001b[0m\n\u001b[1;32m   2153\u001b[0m             \u001b[0;31m# arg is a Series\u001b[0m\u001b[0;34m\u001b[0m\u001b[0;34m\u001b[0m\u001b[0m\n\u001b[0;32m-> 2154\u001b[0;31m             \u001b[0mindexer\u001b[0m \u001b[0;34m=\u001b[0m \u001b[0marg\u001b[0m\u001b[0;34m.\u001b[0m\u001b[0mindex\u001b[0m\u001b[0;34m.\u001b[0m\u001b[0mget_indexer\u001b[0m\u001b[0;34m(\u001b[0m\u001b[0mvalues\u001b[0m\u001b[0;34m)\u001b[0m\u001b[0;34m\u001b[0m\u001b[0m\n\u001b[0m\u001b[1;32m   2155\u001b[0m             \u001b[0mnew_values\u001b[0m \u001b[0;34m=\u001b[0m \u001b[0malgorithms\u001b[0m\u001b[0;34m.\u001b[0m\u001b[0mtake_1d\u001b[0m\u001b[0;34m(\u001b[0m\u001b[0marg\u001b[0m\u001b[0;34m.\u001b[0m\u001b[0m_values\u001b[0m\u001b[0;34m,\u001b[0m \u001b[0mindexer\u001b[0m\u001b[0;34m)\u001b[0m\u001b[0;34m\u001b[0m\u001b[0m\n\u001b[1;32m   2156\u001b[0m         \u001b[0;32melse\u001b[0m\u001b[0;34m:\u001b[0m\u001b[0;34m\u001b[0m\u001b[0m\n",
      "\u001b[0;32m/home/ubuntu/.venv/local/lib/python2.7/site-packages/pandas/core/indexes/base.pyc\u001b[0m in \u001b[0;36mget_indexer\u001b[0;34m(self, target, method, limit, tolerance)\u001b[0m\n\u001b[1;32m   2578\u001b[0m             \u001b[0mtarget\u001b[0m \u001b[0;34m=\u001b[0m \u001b[0mtarget\u001b[0m\u001b[0;34m.\u001b[0m\u001b[0mastype\u001b[0m\u001b[0;34m(\u001b[0m\u001b[0mobject\u001b[0m\u001b[0;34m)\u001b[0m\u001b[0;34m\u001b[0m\u001b[0m\n\u001b[1;32m   2579\u001b[0m             return this.get_indexer(target, method=method, limit=limit,\n\u001b[0;32m-> 2580\u001b[0;31m                                     tolerance=tolerance)\n\u001b[0m\u001b[1;32m   2581\u001b[0m \u001b[0;34m\u001b[0m\u001b[0m\n\u001b[1;32m   2582\u001b[0m         \u001b[0;32mif\u001b[0m \u001b[0;32mnot\u001b[0m \u001b[0mself\u001b[0m\u001b[0;34m.\u001b[0m\u001b[0mis_unique\u001b[0m\u001b[0;34m:\u001b[0m\u001b[0;34m\u001b[0m\u001b[0m\n",
      "\u001b[0;32m/home/ubuntu/.venv/local/lib/python2.7/site-packages/pandas/core/indexes/base.pyc\u001b[0m in \u001b[0;36mget_indexer\u001b[0;34m(self, target, method, limit, tolerance)\u001b[0m\n\u001b[1;32m   2581\u001b[0m \u001b[0;34m\u001b[0m\u001b[0m\n\u001b[1;32m   2582\u001b[0m         \u001b[0;32mif\u001b[0m \u001b[0;32mnot\u001b[0m \u001b[0mself\u001b[0m\u001b[0;34m.\u001b[0m\u001b[0mis_unique\u001b[0m\u001b[0;34m:\u001b[0m\u001b[0;34m\u001b[0m\u001b[0m\n\u001b[0;32m-> 2583\u001b[0;31m             raise InvalidIndexError('Reindexing only valid with uniquely'\n\u001b[0m\u001b[1;32m   2584\u001b[0m                                     ' valued Index objects')\n\u001b[1;32m   2585\u001b[0m \u001b[0;34m\u001b[0m\u001b[0m\n",
      "\u001b[0;31mInvalidIndexError\u001b[0m: Reindexing only valid with uniquely valued Index objects"
     ]
    }
   ],
   "source": [
    "# %%cache dataset.pkl df_train df_test labels\n",
    "### train / test orders ###\n",
    "print('split orders : train, test')\n",
    "test_orders = orders[orders.eval_set == 2]\n",
    "train_orders = orders[orders.eval_set == 1]\n",
    "\n",
    "df_train, labels = features(train_orders, labels_given=True)\n",
    "del train_orders\n",
    "gc.collect()\n",
    "df_test, _ = features(test_orders, labels_given=False)\n",
    "del test_orders\n",
    "gc.collect()"
   ]
  },
  {
   "cell_type": "markdown",
   "metadata": {
    "ExecuteTime": {
     "end_time": "2017-07-16T09:50:39.048027Z",
     "start_time": "2017-07-16T09:48:15.953Z"
    }
   },
   "source": [
    "# Train"
   ]
  },
  {
   "cell_type": "code",
   "execution_count": 28,
   "metadata": {
    "ExecuteTime": {
     "end_time": "2017-08-06T13:53:59.622450Z",
     "start_time": "2017-08-06T13:53:59.612180Z"
    }
   },
   "outputs": [],
   "source": [
    "f_to_use = [\n",
    "    'user_total_orders', 'user_total_items', 'user_total_distinct_items',\n",
    "    'user_average_days_between_orders', 'user_average_basket',\n",
    "    'order_hour_of_day', 'days_since_prior_order', 'days_since_ratio',\n",
    "    'aisle_id', 'department_id', 'product_orders', 'product_reorders',\n",
    "    'product_reorder_rate', 'UP_orders', 'UP_orders_ratio',\n",
    "    'UP_average_pos_in_cart', 'UP_reorders', 'UP_orders_since_last',\n",
    "    'UP_delta_hour_vs_last'\n",
    "]\n",
    "\n",
    "def feature_select(df):\n",
    "#     return df[f_to_use]\n",
    "    return df.drop(\n",
    "        [\"user_id\", \"order_id\", \"product_id\"], \n",
    "        axis=1, errors=\"ignore\"\n",
    "    )"
   ]
  },
  {
   "cell_type": "code",
   "execution_count": 24,
   "metadata": {
    "ExecuteTime": {
     "end_time": "2017-08-06T13:52:03.441321Z",
     "start_time": "2017-08-06T13:52:03.357558Z"
    }
   },
   "outputs": [],
   "source": [
    "params = {\n",
    "    'task': 'train',\n",
    "    'boosting_type': 'gbdt',\n",
    "    'objective': 'binary',\n",
    "    'metric': {'binary_logloss'},\n",
    "    'num_leaves': 96,\n",
    "    'feature_fraction': 0.9,\n",
    "    'bagging_fraction': 0.95,\n",
    "    'bagging_freq': 5\n",
    "}\n",
    "ROUNDS = 98\n",
    "\n",
    "def train(traindf, y):\n",
    "    d_train = lgb.Dataset(\n",
    "        feature_select(traindf),\n",
    "        label=y,\n",
    "        categorical_feature=['aisle_id', 'department_id']\n",
    "    )\n",
    "\n",
    "    model = lgb.train(params, d_train, ROUNDS)\n",
    "    return model"
   ]
  },
  {
   "cell_type": "code",
   "execution_count": 17,
   "metadata": {
    "ExecuteTime": {
     "end_time": "2017-08-06T13:44:09.433557Z",
     "start_time": "2017-08-06T13:42:01.919124Z"
    }
   },
   "outputs": [],
   "source": [
    "model = train(df_train, labels)"
   ]
  },
  {
   "cell_type": "markdown",
   "metadata": {},
   "source": [
    "# Predict"
   ]
  },
  {
   "cell_type": "code",
   "execution_count": 25,
   "metadata": {
    "ExecuteTime": {
     "end_time": "2017-08-06T13:52:15.985189Z",
     "start_time": "2017-08-06T13:52:15.901755Z"
    }
   },
   "outputs": [],
   "source": [
    "def predict(model, df_test, TRESHOLD=0.19):\n",
    "    ### build candidates list for test ###\n",
    "\n",
    "    df_test['pred'] = model.predict(feature_select(df_test))\n",
    "    # Нужно добавить https://www.kaggle.com/mmueller/f1-score-expectation-maximization-in-o-n/code\n",
    "    d = dict()\n",
    "    for row in df_test.itertuples():\n",
    "        # Вот тут можно отрезать не по threshold, а с помощью модели определять кол-во покупок\n",
    "        if row.pred > TRESHOLD:\n",
    "            try:\n",
    "                d[row.order_id] += ' ' + str(row.product_id)\n",
    "            except KeyError:\n",
    "                d[row.order_id] = str(row.product_id)\n",
    "\n",
    "    for order_id in df_test.order_id:\n",
    "        if order_id not in d:\n",
    "            d[order_id] = 'None'\n",
    "\n",
    "    sub = pd.DataFrame.from_dict(d, orient='index')\n",
    "    sub.reset_index(inplace=True)\n",
    "    sub.columns = ['order_id', 'products']\n",
    "    return sub"
   ]
  },
  {
   "cell_type": "code",
   "execution_count": 19,
   "metadata": {
    "ExecuteTime": {
     "end_time": "2017-08-06T13:45:01.185195Z",
     "start_time": "2017-08-06T13:44:28.227300Z"
    }
   },
   "outputs": [],
   "source": [
    "sub = predict(model, df_test)\n",
    "sub.to_csv('sub.csv', index=False)"
   ]
  },
  {
   "cell_type": "markdown",
   "metadata": {},
   "source": [
    "# CV"
   ]
  },
  {
   "cell_type": "markdown",
   "metadata": {},
   "source": [
    "https://www.kaggle.com/happycube/validation-demo-325-cv-3276-lb/notebook"
   ]
  },
  {
   "cell_type": "code",
   "execution_count": null,
   "metadata": {
    "ExecuteTime": {
     "end_time": "2017-07-16T10:59:51.248918Z",
     "start_time": "2017-07-16T10:48:26.530866Z"
    },
    "editable": false,
    "run_control": {
     "frozen": true
    }
   },
   "outputs": [],
   "source": [
    "lgb.cv(params, d_train, ROUNDS, nfold=5, verbose_eval=10)"
   ]
  },
  {
   "cell_type": "code",
   "execution_count": 20,
   "metadata": {
    "ExecuteTime": {
     "end_time": "2017-08-06T13:45:08.325172Z",
     "start_time": "2017-08-06T13:45:07.170965Z"
    },
    "code_folding": []
   },
   "outputs": [
    {
     "name": "stdout",
     "output_type": "stream",
     "text": [
      "[Skipped the cell's code and loaded variables df_train_gt from file '/home/ubuntu/kaggle/instacart/df_train_gt.pkl'.]\n"
     ]
    },
    {
     "data": {
      "text/plain": [
       "54"
      ]
     },
     "metadata": {},
     "output_type": "display_data"
    }
   ],
   "source": [
    "%%cache df_train_gt.pkl df_train_gt\n",
    "\n",
    "from functools import partial\n",
    "\n",
    "products_raw = pd.read_csv(IDIR + 'products.csv')\n",
    "# combine aisles, departments and products (left joined to products)\n",
    "goods = pd.merge(\n",
    "    left=pd.merge(\n",
    "        left=products_raw, \n",
    "        right=departments, how='left'\n",
    "    ), \n",
    "    right=aisles, how='left'\n",
    ")\n",
    "# to retain '-' and make product names more \"standard\"\n",
    "goods.product_name = goods.product_name.str.replace(' ', '_').str.lower() \n",
    "\n",
    "# retype goods to reduce memory usage\n",
    "goods.product_id = goods.product_id.astype(np.int32)\n",
    "goods.aisle_id = goods.aisle_id.astype(np.int16)\n",
    "goods.department_id = goods.department_id.astype(np.int8)\n",
    "\n",
    "# initialize it with train dataset\n",
    "train_details = pd.merge(\n",
    "                left=op_train,\n",
    "                 right=orders, \n",
    "                 how='left', \n",
    "                 on='order_id'\n",
    "        ).apply(partial(pd.to_numeric, errors='ignore', downcast='integer'))\n",
    "\n",
    "# add order hierarchy\n",
    "train_details = pd.merge(\n",
    "                left=train_details,\n",
    "                right=goods[['product_id', \n",
    "                             'aisle_id', \n",
    "                             'department_id']].apply(partial(pd.to_numeric, \n",
    "                                                             errors='ignore', \n",
    "                                                             downcast='integer')),\n",
    "                how='left',\n",
    "                on='product_id'\n",
    ")\n",
    "\n",
    "train_gtl = []\n",
    "\n",
    "for uid, subset in train_details.groupby('user_id'):\n",
    "    subset1 = subset[subset.reordered == 1]\n",
    "    oid = subset.order_id.values[0]\n",
    "\n",
    "    if len(subset1) == 0:\n",
    "        train_gtl.append((oid, 'None'))\n",
    "        continue\n",
    "\n",
    "    ostr = ' '.join([str(int(e)) for e in subset1.product_id.values])\n",
    "    # .strip is needed because join can have a padding space at the end\n",
    "    train_gtl.append((oid, ostr.strip()))\n",
    "\n",
    "del train_details\n",
    "del goods\n",
    "del products_raw\n",
    "\n",
    "gc.collect()\n",
    "\n",
    "df_train_gt = pd.DataFrame(train_gtl)\n",
    "\n",
    "df_train_gt.columns = ['order_id', 'products']\n",
    "df_train_gt.set_index('order_id', inplace=True)\n",
    "df_train_gt.sort_index(inplace=True)"
   ]
  },
  {
   "cell_type": "code",
   "execution_count": 26,
   "metadata": {
    "ExecuteTime": {
     "end_time": "2017-08-06T13:52:22.976375Z",
     "start_time": "2017-08-06T13:52:22.926351Z"
    }
   },
   "outputs": [],
   "source": [
    "from sklearn.model_selection import GroupKFold\n",
    "\n",
    "def f1_score(cvpred):\n",
    "    joined = df_train_gt.join(cvpred, rsuffix=\"_cv\", how=\"inner\")\n",
    "    lgts = joined.products.replace(\"None\", \"-1\").apply(lambda x: x.split(\" \")).values\n",
    "    lpreds = joined.products_cv.replace(\"None\", \"-1\").apply(lambda x: x.split(\" \")).values\n",
    "    f1 = []\n",
    "    for lgt, lpred in zip(lgts, lpreds):\n",
    "        rr = (np.intersect1d(lgt, lpred))\n",
    "        precision = np.float(len(rr)) / len(lpred)\n",
    "        recall = np.float(len(rr)) / len(lgt)\n",
    "\n",
    "        denom = precision + recall\n",
    "        f1.append(((2 * precision * recall) / denom) if denom > 0 else 0)\n",
    "    return np.mean(f1)\n",
    "\n",
    "def cv(threshold=0.22):\n",
    "    gkf = GroupKFold(n_splits=5)\n",
    "\n",
    "    scores = []\n",
    "    for train_idx, test_idx in gkf.split(df_train.index, groups=df_train.user_id):\n",
    "        dftrain = df_train.iloc[train_idx]\n",
    "        dftest = df_train.iloc[test_idx]\n",
    "        y = labels[train_idx]\n",
    "        model = train(dftrain, y)\n",
    "        pred = predict(model, dftest, threshold).set_index(\"order_id\")\n",
    "        f1 = f1_score(pred)\n",
    "        print(f1)\n",
    "        scores.append(f1)\n",
    "        del dftrain\n",
    "        del dftest\n",
    "        gc.collect()\n",
    "\n",
    "    return np.mean(scores), np.std(scores)"
   ]
  },
  {
   "cell_type": "code",
   "execution_count": 29,
   "metadata": {
    "ExecuteTime": {
     "end_time": "2017-08-06T13:56:30.001211Z",
     "start_time": "2017-08-06T13:54:09.857379Z"
    }
   },
   "outputs": [
    {
     "name": "stderr",
     "output_type": "stream",
     "text": [
      "/home/ubuntu/.venv/lib/python2.7/site-packages/ipykernel_launcher.py:4: SettingWithCopyWarning: \n",
      "A value is trying to be set on a copy of a slice from a DataFrame.\n",
      "Try using .loc[row_indexer,col_indexer] = value instead\n",
      "\n",
      "See the caveats in the documentation: http://pandas.pydata.org/pandas-docs/stable/indexing.html#indexing-view-versus-copy\n",
      "  after removing the cwd from sys.path.\n"
     ]
    },
    {
     "name": "stdout",
     "output_type": "stream",
     "text": [
      "0.219581467551\n"
     ]
    },
    {
     "ename": "KeyboardInterrupt",
     "evalue": "",
     "output_type": "error",
     "traceback": [
      "\u001b[0;31m---------------------------------------------------------------------------\u001b[0m",
      "\u001b[0;31mKeyboardInterrupt\u001b[0m                         Traceback (most recent call last)",
      "\u001b[0;32m<ipython-input-29-312aae3f6475>\u001b[0m in \u001b[0;36m<module>\u001b[0;34m()\u001b[0m\n\u001b[0;32m----> 1\u001b[0;31m \u001b[0mcv\u001b[0m\u001b[0;34m(\u001b[0m\u001b[0;34m)\u001b[0m\u001b[0;34m\u001b[0m\u001b[0m\n\u001b[0m",
      "\u001b[0;32m<ipython-input-26-14e2a9f4ace5>\u001b[0m in \u001b[0;36mcv\u001b[0;34m(threshold)\u001b[0m\n\u001b[1;32m     23\u001b[0m         \u001b[0mdftest\u001b[0m \u001b[0;34m=\u001b[0m \u001b[0mdf_train\u001b[0m\u001b[0;34m.\u001b[0m\u001b[0miloc\u001b[0m\u001b[0;34m[\u001b[0m\u001b[0mtest_idx\u001b[0m\u001b[0;34m]\u001b[0m\u001b[0;34m\u001b[0m\u001b[0m\n\u001b[1;32m     24\u001b[0m         \u001b[0my\u001b[0m \u001b[0;34m=\u001b[0m \u001b[0mlabels\u001b[0m\u001b[0;34m[\u001b[0m\u001b[0mtrain_idx\u001b[0m\u001b[0;34m]\u001b[0m\u001b[0;34m\u001b[0m\u001b[0m\n\u001b[0;32m---> 25\u001b[0;31m         \u001b[0mmodel\u001b[0m \u001b[0;34m=\u001b[0m \u001b[0mtrain\u001b[0m\u001b[0;34m(\u001b[0m\u001b[0mdftrain\u001b[0m\u001b[0;34m,\u001b[0m \u001b[0my\u001b[0m\u001b[0;34m)\u001b[0m\u001b[0;34m\u001b[0m\u001b[0m\n\u001b[0m\u001b[1;32m     26\u001b[0m         \u001b[0mpred\u001b[0m \u001b[0;34m=\u001b[0m \u001b[0mpredict\u001b[0m\u001b[0;34m(\u001b[0m\u001b[0mmodel\u001b[0m\u001b[0;34m,\u001b[0m \u001b[0mdftest\u001b[0m\u001b[0;34m,\u001b[0m \u001b[0mthreshold\u001b[0m\u001b[0;34m)\u001b[0m\u001b[0;34m.\u001b[0m\u001b[0mset_index\u001b[0m\u001b[0;34m(\u001b[0m\u001b[0;34m\"order_id\"\u001b[0m\u001b[0;34m)\u001b[0m\u001b[0;34m\u001b[0m\u001b[0m\n\u001b[1;32m     27\u001b[0m         \u001b[0mf1\u001b[0m \u001b[0;34m=\u001b[0m \u001b[0mf1_score\u001b[0m\u001b[0;34m(\u001b[0m\u001b[0mpred\u001b[0m\u001b[0;34m)\u001b[0m\u001b[0;34m\u001b[0m\u001b[0m\n",
      "\u001b[0;32m<ipython-input-24-32f13b5c7596>\u001b[0m in \u001b[0;36mtrain\u001b[0;34m(traindf, y)\u001b[0m\n\u001b[1;32m     18\u001b[0m     )\n\u001b[1;32m     19\u001b[0m \u001b[0;34m\u001b[0m\u001b[0m\n\u001b[0;32m---> 20\u001b[0;31m     \u001b[0mmodel\u001b[0m \u001b[0;34m=\u001b[0m \u001b[0mlgb\u001b[0m\u001b[0;34m.\u001b[0m\u001b[0mtrain\u001b[0m\u001b[0;34m(\u001b[0m\u001b[0mparams\u001b[0m\u001b[0;34m,\u001b[0m \u001b[0md_train\u001b[0m\u001b[0;34m,\u001b[0m \u001b[0mROUNDS\u001b[0m\u001b[0;34m)\u001b[0m\u001b[0;34m\u001b[0m\u001b[0m\n\u001b[0m\u001b[1;32m     21\u001b[0m     \u001b[0;32mreturn\u001b[0m \u001b[0mmodel\u001b[0m\u001b[0;34m\u001b[0m\u001b[0m\n",
      "\u001b[0;32m/home/ubuntu/.venv/local/lib/python2.7/site-packages/lightgbm/engine.pyc\u001b[0m in \u001b[0;36mtrain\u001b[0;34m(params, train_set, num_boost_round, valid_sets, valid_names, fobj, feval, init_model, feature_name, categorical_feature, early_stopping_rounds, evals_result, verbose_eval, learning_rates, callbacks)\u001b[0m\n\u001b[1;32m    178\u001b[0m                                     evaluation_result_list=None))\n\u001b[1;32m    179\u001b[0m \u001b[0;34m\u001b[0m\u001b[0m\n\u001b[0;32m--> 180\u001b[0;31m         \u001b[0mbooster\u001b[0m\u001b[0;34m.\u001b[0m\u001b[0mupdate\u001b[0m\u001b[0;34m(\u001b[0m\u001b[0mfobj\u001b[0m\u001b[0;34m=\u001b[0m\u001b[0mfobj\u001b[0m\u001b[0;34m)\u001b[0m\u001b[0;34m\u001b[0m\u001b[0m\n\u001b[0m\u001b[1;32m    181\u001b[0m \u001b[0;34m\u001b[0m\u001b[0m\n\u001b[1;32m    182\u001b[0m         \u001b[0mevaluation_result_list\u001b[0m \u001b[0;34m=\u001b[0m \u001b[0;34m[\u001b[0m\u001b[0;34m]\u001b[0m\u001b[0;34m\u001b[0m\u001b[0m\n",
      "\u001b[0;32m/home/ubuntu/.venv/local/lib/python2.7/site-packages/lightgbm/basic.pyc\u001b[0m in \u001b[0;36mupdate\u001b[0;34m(self, train_set, fobj)\u001b[0m\n\u001b[1;32m   1368\u001b[0m             _safe_call(_LIB.LGBM_BoosterUpdateOneIter(\n\u001b[1;32m   1369\u001b[0m                 \u001b[0mself\u001b[0m\u001b[0;34m.\u001b[0m\u001b[0mhandle\u001b[0m\u001b[0;34m,\u001b[0m\u001b[0;34m\u001b[0m\u001b[0m\n\u001b[0;32m-> 1370\u001b[0;31m                 ctypes.byref(is_finished)))\n\u001b[0m\u001b[1;32m   1371\u001b[0m             \u001b[0mself\u001b[0m\u001b[0;34m.\u001b[0m\u001b[0m__is_predicted_cur_iter\u001b[0m \u001b[0;34m=\u001b[0m \u001b[0;34m[\u001b[0m\u001b[0mFalse\u001b[0m \u001b[0;32mfor\u001b[0m \u001b[0m_\u001b[0m \u001b[0;32min\u001b[0m \u001b[0mrange_\u001b[0m\u001b[0;34m(\u001b[0m\u001b[0mself\u001b[0m\u001b[0;34m.\u001b[0m\u001b[0m__num_dataset\u001b[0m\u001b[0;34m)\u001b[0m\u001b[0;34m]\u001b[0m\u001b[0;34m\u001b[0m\u001b[0m\n\u001b[1;32m   1372\u001b[0m             \u001b[0;32mreturn\u001b[0m \u001b[0mis_finished\u001b[0m\u001b[0;34m.\u001b[0m\u001b[0mvalue\u001b[0m \u001b[0;34m==\u001b[0m \u001b[0;36m1\u001b[0m\u001b[0;34m\u001b[0m\u001b[0m\n",
      "\u001b[0;31mKeyboardInterrupt\u001b[0m: "
     ]
    }
   ],
   "source": [
    "cv()"
   ]
  },
  {
   "cell_type": "markdown",
   "metadata": {
    "heading_collapsed": true
   },
   "source": [
    "# Подбираем threshold"
   ]
  },
  {
   "cell_type": "code",
   "execution_count": 18,
   "metadata": {
    "ExecuteTime": {
     "end_time": "2017-07-16T19:49:07.361070Z",
     "start_time": "2017-07-16T18:59:13.099792Z"
    },
    "hidden": true
   },
   "outputs": [
    {
     "name": "stdout",
     "output_type": "stream",
     "text": [
      "0.18\n"
     ]
    },
    {
     "name": "stderr",
     "output_type": "stream",
     "text": [
      "/Users/evgeny/Library/Python/2.7/lib/python/site-packages/ipykernel_launcher.py:4: SettingWithCopyWarning: \n",
      "A value is trying to be set on a copy of a slice from a DataFrame.\n",
      "Try using .loc[row_indexer,col_indexer] = value instead\n",
      "\n",
      "See the caveats in the documentation: http://pandas.pydata.org/pandas-docs/stable/indexing.html#indexing-view-versus-copy\n",
      "  after removing the cwd from sys.path.\n"
     ]
    },
    {
     "name": "stdout",
     "output_type": "stream",
     "text": [
      "0.375669602808\n",
      "0.37518960199\n",
      "0.376068733519\n",
      "0.374880658158\n",
      "0.371575669134\n",
      "(0.37467685312194482, 0.0016027896306283745)\n",
      "\n",
      "0.19\n",
      "0.375981281546\n",
      "0.375613273106\n",
      "0.37623495823\n",
      "0.374958453045\n",
      "0.371884026622\n",
      "(0.3749343985097483, 0.0015845275427144021)\n",
      "\n",
      "0.2\n",
      "0.376141810192\n",
      "0.375593739202\n",
      "0.375961736002\n",
      "0.375124046483\n",
      "0.371748172351\n",
      "(0.37491390084571824, 0.001620734287706205)\n",
      "\n",
      "0.21\n",
      "0.375454836995\n",
      "0.374657579102\n",
      "0.375585106194\n",
      "0.374639123067\n",
      "0.371277685501\n",
      "(0.37432286617177202, 0.0015722458019732746)\n",
      "\n",
      "0.22\n"
     ]
    },
    {
     "ename": "KeyboardInterrupt",
     "evalue": "",
     "output_type": "error",
     "traceback": [
      "\u001b[0;31m---------------------------------------------------------------------------\u001b[0m",
      "\u001b[0;31mKeyboardInterrupt\u001b[0m                         Traceback (most recent call last)",
      "\u001b[0;32m<ipython-input-18-6c718121d7c6>\u001b[0m in \u001b[0;36m<module>\u001b[0;34m()\u001b[0m\n\u001b[1;32m      1\u001b[0m \u001b[0;32mfor\u001b[0m \u001b[0mth\u001b[0m \u001b[0;32min\u001b[0m \u001b[0mnp\u001b[0m\u001b[0;34m.\u001b[0m\u001b[0marange\u001b[0m\u001b[0;34m(\u001b[0m\u001b[0;36m0.18\u001b[0m\u001b[0;34m,\u001b[0m \u001b[0;36m0.22\u001b[0m\u001b[0;34m,\u001b[0m \u001b[0;36m0.01\u001b[0m\u001b[0;34m)\u001b[0m\u001b[0;34m:\u001b[0m\u001b[0;34m\u001b[0m\u001b[0m\n\u001b[1;32m      2\u001b[0m     \u001b[0;32mprint\u001b[0m \u001b[0mth\u001b[0m\u001b[0;34m\u001b[0m\u001b[0m\n\u001b[0;32m----> 3\u001b[0;31m     \u001b[0;32mprint\u001b[0m \u001b[0mcv\u001b[0m\u001b[0;34m(\u001b[0m\u001b[0mthreshold\u001b[0m\u001b[0;34m=\u001b[0m\u001b[0mth\u001b[0m\u001b[0;34m)\u001b[0m\u001b[0;34m\u001b[0m\u001b[0m\n\u001b[0m\u001b[1;32m      4\u001b[0m     \u001b[0;32mprint\u001b[0m\u001b[0;34m\u001b[0m\u001b[0m\n",
      "\u001b[0;32m<ipython-input-14-8a57b9000d45>\u001b[0m in \u001b[0;36mcv\u001b[0;34m(threshold)\u001b[0m\n\u001b[1;32m      8\u001b[0m         \u001b[0mdftest\u001b[0m \u001b[0;34m=\u001b[0m \u001b[0mdf_train\u001b[0m\u001b[0;34m.\u001b[0m\u001b[0miloc\u001b[0m\u001b[0;34m[\u001b[0m\u001b[0mtest_idx\u001b[0m\u001b[0;34m]\u001b[0m\u001b[0;34m\u001b[0m\u001b[0m\n\u001b[1;32m      9\u001b[0m         \u001b[0my\u001b[0m \u001b[0;34m=\u001b[0m \u001b[0mlabels\u001b[0m\u001b[0;34m[\u001b[0m\u001b[0mtrain_idx\u001b[0m\u001b[0;34m]\u001b[0m\u001b[0;34m\u001b[0m\u001b[0m\n\u001b[0;32m---> 10\u001b[0;31m         \u001b[0mmodel\u001b[0m \u001b[0;34m=\u001b[0m \u001b[0mtrain\u001b[0m\u001b[0;34m(\u001b[0m\u001b[0mdftrain\u001b[0m\u001b[0;34m,\u001b[0m \u001b[0my\u001b[0m\u001b[0;34m)\u001b[0m\u001b[0;34m\u001b[0m\u001b[0m\n\u001b[0m\u001b[1;32m     11\u001b[0m         \u001b[0mpred\u001b[0m \u001b[0;34m=\u001b[0m \u001b[0mpredict\u001b[0m\u001b[0;34m(\u001b[0m\u001b[0mmodel\u001b[0m\u001b[0;34m,\u001b[0m \u001b[0mdftest\u001b[0m\u001b[0;34m,\u001b[0m \u001b[0mthreshold\u001b[0m\u001b[0;34m)\u001b[0m\u001b[0;34m.\u001b[0m\u001b[0mset_index\u001b[0m\u001b[0;34m(\u001b[0m\u001b[0;34m\"order_id\"\u001b[0m\u001b[0;34m)\u001b[0m\u001b[0;34m\u001b[0m\u001b[0m\n\u001b[1;32m     12\u001b[0m         \u001b[0mf1\u001b[0m \u001b[0;34m=\u001b[0m \u001b[0mf1_score\u001b[0m\u001b[0;34m(\u001b[0m\u001b[0mpred\u001b[0m\u001b[0;34m)\u001b[0m\u001b[0;34m\u001b[0m\u001b[0m\n",
      "\u001b[0;32m<ipython-input-10-32f13b5c7596>\u001b[0m in \u001b[0;36mtrain\u001b[0;34m(traindf, y)\u001b[0m\n\u001b[1;32m     18\u001b[0m     )\n\u001b[1;32m     19\u001b[0m \u001b[0;34m\u001b[0m\u001b[0m\n\u001b[0;32m---> 20\u001b[0;31m     \u001b[0mmodel\u001b[0m \u001b[0;34m=\u001b[0m \u001b[0mlgb\u001b[0m\u001b[0;34m.\u001b[0m\u001b[0mtrain\u001b[0m\u001b[0;34m(\u001b[0m\u001b[0mparams\u001b[0m\u001b[0;34m,\u001b[0m \u001b[0md_train\u001b[0m\u001b[0;34m,\u001b[0m \u001b[0mROUNDS\u001b[0m\u001b[0;34m)\u001b[0m\u001b[0;34m\u001b[0m\u001b[0m\n\u001b[0m\u001b[1;32m     21\u001b[0m     \u001b[0;32mreturn\u001b[0m \u001b[0mmodel\u001b[0m\u001b[0;34m\u001b[0m\u001b[0m\n",
      "\u001b[0;32m/usr/local/lib/python2.7/site-packages/lightgbm-0.2-py2.7.egg/lightgbm/engine.py\u001b[0m in \u001b[0;36mtrain\u001b[0;34m(params, train_set, num_boost_round, valid_sets, valid_names, fobj, feval, init_model, feature_name, categorical_feature, early_stopping_rounds, evals_result, verbose_eval, learning_rates, callbacks)\u001b[0m\n\u001b[1;32m    178\u001b[0m                                     evaluation_result_list=None))\n\u001b[1;32m    179\u001b[0m \u001b[0;34m\u001b[0m\u001b[0m\n\u001b[0;32m--> 180\u001b[0;31m         \u001b[0mbooster\u001b[0m\u001b[0;34m.\u001b[0m\u001b[0mupdate\u001b[0m\u001b[0;34m(\u001b[0m\u001b[0mfobj\u001b[0m\u001b[0;34m=\u001b[0m\u001b[0mfobj\u001b[0m\u001b[0;34m)\u001b[0m\u001b[0;34m\u001b[0m\u001b[0m\n\u001b[0m\u001b[1;32m    181\u001b[0m \u001b[0;34m\u001b[0m\u001b[0m\n\u001b[1;32m    182\u001b[0m         \u001b[0mevaluation_result_list\u001b[0m \u001b[0;34m=\u001b[0m \u001b[0;34m[\u001b[0m\u001b[0;34m]\u001b[0m\u001b[0;34m\u001b[0m\u001b[0m\n",
      "\u001b[0;32m/usr/local/lib/python2.7/site-packages/lightgbm-0.2-py2.7.egg/lightgbm/basic.py\u001b[0m in \u001b[0;36mupdate\u001b[0;34m(self, train_set, fobj)\u001b[0m\n\u001b[1;32m   1368\u001b[0m             _safe_call(_LIB.LGBM_BoosterUpdateOneIter(\n\u001b[1;32m   1369\u001b[0m                 \u001b[0mself\u001b[0m\u001b[0;34m.\u001b[0m\u001b[0mhandle\u001b[0m\u001b[0;34m,\u001b[0m\u001b[0;34m\u001b[0m\u001b[0m\n\u001b[0;32m-> 1370\u001b[0;31m                 ctypes.byref(is_finished)))\n\u001b[0m\u001b[1;32m   1371\u001b[0m             \u001b[0mself\u001b[0m\u001b[0;34m.\u001b[0m\u001b[0m__is_predicted_cur_iter\u001b[0m \u001b[0;34m=\u001b[0m \u001b[0;34m[\u001b[0m\u001b[0mFalse\u001b[0m \u001b[0;32mfor\u001b[0m \u001b[0m_\u001b[0m \u001b[0;32min\u001b[0m \u001b[0mrange_\u001b[0m\u001b[0;34m(\u001b[0m\u001b[0mself\u001b[0m\u001b[0;34m.\u001b[0m\u001b[0m__num_dataset\u001b[0m\u001b[0;34m)\u001b[0m\u001b[0;34m]\u001b[0m\u001b[0;34m\u001b[0m\u001b[0m\n\u001b[1;32m   1372\u001b[0m             \u001b[0;32mreturn\u001b[0m \u001b[0mis_finished\u001b[0m\u001b[0;34m.\u001b[0m\u001b[0mvalue\u001b[0m \u001b[0;34m==\u001b[0m \u001b[0;36m1\u001b[0m\u001b[0;34m\u001b[0m\u001b[0m\n",
      "\u001b[0;31mKeyboardInterrupt\u001b[0m: "
     ]
    }
   ],
   "source": [
    "for th in np.arange(0.18, 0.22, 0.01):\n",
    "    print th\n",
    "    print cv(threshold=th)\n",
    "    print "
   ]
  },
  {
   "cell_type": "markdown",
   "metadata": {
    "hidden": true
   },
   "source": [
    "0.372658477911"
   ]
  },
  {
   "cell_type": "code",
   "execution_count": 17,
   "metadata": {
    "ExecuteTime": {
     "end_time": "2017-07-16T16:45:31.846458Z",
     "start_time": "2017-07-16T16:45:31.837241Z"
    },
    "editable": false,
    "hidden": true,
    "run_control": {
     "frozen": true
    }
   },
   "outputs": [
    {
     "ename": "SyntaxError",
     "evalue": "invalid syntax (<ipython-input-17-fd741fd5103b>, line 6)",
     "output_type": "error",
     "traceback": [
      "\u001b[0;36m  File \u001b[0;32m\"<ipython-input-17-fd741fd5103b>\"\u001b[0;36m, line \u001b[0;32m6\u001b[0m\n\u001b[0;31m    (0.37491390084571824, 0.001620734287706205) 0.2\u001b[0m\n\u001b[0m                                                  ^\u001b[0m\n\u001b[0;31mSyntaxError\u001b[0m\u001b[0;31m:\u001b[0m invalid syntax\n"
     ]
    }
   ],
   "source": [
    "0.18\n",
    "0.375669602808\n",
    "0.37518960199\n",
    "0.376068733519\n",
    "0.374880658158\n",
    "0.371575669134\n",
    "(0.37467685312194482, 0.0016027896306283745)\n",
    "\n",
    "0.19\n",
    "0.375981281546\n",
    "0.375613273106\n",
    "0.37623495823\n",
    "0.374958453045\n",
    "0.371884026622\n",
    "(0.3749343985097483, 0.0015845275427144021)\n",
    "\n",
    "0.2\n",
    "0.376141810192\n",
    "0.375593739202\n",
    "0.375961736002\n",
    "0.375124046483\n",
    "0.371748172351\n",
    "(0.37491390084571824, 0.001620734287706205)\n",
    "\n",
    "\n",
    "0.21\n",
    "0.375454836995\n",
    "0.374657579102\n",
    "0.375585106194\n",
    "0.374639123067\n",
    "0.371277685501\n",
    "(0.37432286617177202, 0.0015722458019732746)\n",
    "\n",
    "\n",
    "0.2\n",
    "0.376141810192\n",
    "0.375593739202\n",
    "0.375961736002\n",
    "0.375124046483\n",
    "0.371748172351\n",
    "\n",
    "(0.37491390084571824, 0.001620734287706205)\n",
    "\n",
    "0.374504880043\n",
    "0.372459365153\n",
    "0.374241429517\n",
    "0.373332070018\n",
    "0.370178093483\n",
    "(0.37294316764289259, 0.0015591904647740879) 0.22\n",
    "0.370290530162\n",
    "0.369518178297\n",
    "0.370515696117\n",
    "0.369568282123\n",
    "0.3673846793\n",
    "(0.36945547319979183, 0.0011069090226251931) 0.24\n",
    "0.363691285892\n",
    "0.363725106289\n",
    "0.363492700824\n",
    "0.364412180878\n",
    "0.363024994542\n",
    "(0.36366925368510306, 0.00044761289123321511) 0.26"
   ]
  },
  {
   "cell_type": "markdown",
   "metadata": {
    "ExecuteTime": {
     "end_time": "2017-07-23T09:31:39.735518Z",
     "start_time": "2017-07-23T09:31:39.703166Z"
    },
    "heading_collapsed": true
   },
   "source": [
    "# Модель определения кол-ва покупок"
   ]
  },
  {
   "cell_type": "code",
   "execution_count": 3,
   "metadata": {
    "ExecuteTime": {
     "end_time": "2017-08-05T11:59:01.703694Z",
     "start_time": "2017-08-05T11:58:58.185733Z"
    },
    "hidden": true
   },
   "outputs": [
    {
     "data": {
      "text/html": [
       "<div>\n",
       "<style>\n",
       "    .dataframe thead tr:only-child th {\n",
       "        text-align: right;\n",
       "    }\n",
       "\n",
       "    .dataframe thead th {\n",
       "        text-align: left;\n",
       "    }\n",
       "\n",
       "    .dataframe tbody tr th {\n",
       "        vertical-align: top;\n",
       "    }\n",
       "</style>\n",
       "<table border=\"1\" class=\"dataframe\">\n",
       "  <thead>\n",
       "    <tr style=\"text-align: right;\">\n",
       "      <th></th>\n",
       "      <th>order_id</th>\n",
       "      <th>user_id</th>\n",
       "      <th>eval_set</th>\n",
       "      <th>order_number</th>\n",
       "      <th>order_dow</th>\n",
       "      <th>order_hour_of_day</th>\n",
       "      <th>days_since_prior_order</th>\n",
       "      <th>product_counts</th>\n",
       "    </tr>\n",
       "    <tr>\n",
       "      <th>order_id</th>\n",
       "      <th></th>\n",
       "      <th></th>\n",
       "      <th></th>\n",
       "      <th></th>\n",
       "      <th></th>\n",
       "      <th></th>\n",
       "      <th></th>\n",
       "      <th></th>\n",
       "    </tr>\n",
       "  </thead>\n",
       "  <tbody>\n",
       "    <tr>\n",
       "      <th>2539329</th>\n",
       "      <td>2539329</td>\n",
       "      <td>1</td>\n",
       "      <td>prior</td>\n",
       "      <td>1</td>\n",
       "      <td>2</td>\n",
       "      <td>8</td>\n",
       "      <td>NaN</td>\n",
       "      <td>5</td>\n",
       "    </tr>\n",
       "    <tr>\n",
       "      <th>2398795</th>\n",
       "      <td>2398795</td>\n",
       "      <td>1</td>\n",
       "      <td>prior</td>\n",
       "      <td>2</td>\n",
       "      <td>3</td>\n",
       "      <td>7</td>\n",
       "      <td>15.0</td>\n",
       "      <td>6</td>\n",
       "    </tr>\n",
       "    <tr>\n",
       "      <th>473747</th>\n",
       "      <td>473747</td>\n",
       "      <td>1</td>\n",
       "      <td>prior</td>\n",
       "      <td>3</td>\n",
       "      <td>3</td>\n",
       "      <td>12</td>\n",
       "      <td>21.0</td>\n",
       "      <td>5</td>\n",
       "    </tr>\n",
       "    <tr>\n",
       "      <th>2254736</th>\n",
       "      <td>2254736</td>\n",
       "      <td>1</td>\n",
       "      <td>prior</td>\n",
       "      <td>4</td>\n",
       "      <td>4</td>\n",
       "      <td>7</td>\n",
       "      <td>29.0</td>\n",
       "      <td>5</td>\n",
       "    </tr>\n",
       "    <tr>\n",
       "      <th>431534</th>\n",
       "      <td>431534</td>\n",
       "      <td>1</td>\n",
       "      <td>prior</td>\n",
       "      <td>5</td>\n",
       "      <td>4</td>\n",
       "      <td>15</td>\n",
       "      <td>28.0</td>\n",
       "      <td>8</td>\n",
       "    </tr>\n",
       "    <tr>\n",
       "      <th>3367565</th>\n",
       "      <td>3367565</td>\n",
       "      <td>1</td>\n",
       "      <td>prior</td>\n",
       "      <td>6</td>\n",
       "      <td>2</td>\n",
       "      <td>7</td>\n",
       "      <td>19.0</td>\n",
       "      <td>4</td>\n",
       "    </tr>\n",
       "    <tr>\n",
       "      <th>550135</th>\n",
       "      <td>550135</td>\n",
       "      <td>1</td>\n",
       "      <td>prior</td>\n",
       "      <td>7</td>\n",
       "      <td>1</td>\n",
       "      <td>9</td>\n",
       "      <td>20.0</td>\n",
       "      <td>5</td>\n",
       "    </tr>\n",
       "    <tr>\n",
       "      <th>3108588</th>\n",
       "      <td>3108588</td>\n",
       "      <td>1</td>\n",
       "      <td>prior</td>\n",
       "      <td>8</td>\n",
       "      <td>1</td>\n",
       "      <td>14</td>\n",
       "      <td>14.0</td>\n",
       "      <td>6</td>\n",
       "    </tr>\n",
       "    <tr>\n",
       "      <th>2295261</th>\n",
       "      <td>2295261</td>\n",
       "      <td>1</td>\n",
       "      <td>prior</td>\n",
       "      <td>9</td>\n",
       "      <td>1</td>\n",
       "      <td>16</td>\n",
       "      <td>0.0</td>\n",
       "      <td>6</td>\n",
       "    </tr>\n",
       "    <tr>\n",
       "      <th>2550362</th>\n",
       "      <td>2550362</td>\n",
       "      <td>1</td>\n",
       "      <td>prior</td>\n",
       "      <td>10</td>\n",
       "      <td>4</td>\n",
       "      <td>8</td>\n",
       "      <td>30.0</td>\n",
       "      <td>9</td>\n",
       "    </tr>\n",
       "    <tr>\n",
       "      <th>2168274</th>\n",
       "      <td>2168274</td>\n",
       "      <td>2</td>\n",
       "      <td>prior</td>\n",
       "      <td>1</td>\n",
       "      <td>2</td>\n",
       "      <td>11</td>\n",
       "      <td>NaN</td>\n",
       "      <td>13</td>\n",
       "    </tr>\n",
       "    <tr>\n",
       "      <th>1501582</th>\n",
       "      <td>1501582</td>\n",
       "      <td>2</td>\n",
       "      <td>prior</td>\n",
       "      <td>2</td>\n",
       "      <td>5</td>\n",
       "      <td>10</td>\n",
       "      <td>10.0</td>\n",
       "      <td>6</td>\n",
       "    </tr>\n",
       "    <tr>\n",
       "      <th>1901567</th>\n",
       "      <td>1901567</td>\n",
       "      <td>2</td>\n",
       "      <td>prior</td>\n",
       "      <td>3</td>\n",
       "      <td>1</td>\n",
       "      <td>10</td>\n",
       "      <td>3.0</td>\n",
       "      <td>5</td>\n",
       "    </tr>\n",
       "    <tr>\n",
       "      <th>738281</th>\n",
       "      <td>738281</td>\n",
       "      <td>2</td>\n",
       "      <td>prior</td>\n",
       "      <td>4</td>\n",
       "      <td>2</td>\n",
       "      <td>10</td>\n",
       "      <td>8.0</td>\n",
       "      <td>13</td>\n",
       "    </tr>\n",
       "    <tr>\n",
       "      <th>1673511</th>\n",
       "      <td>1673511</td>\n",
       "      <td>2</td>\n",
       "      <td>prior</td>\n",
       "      <td>5</td>\n",
       "      <td>3</td>\n",
       "      <td>11</td>\n",
       "      <td>8.0</td>\n",
       "      <td>13</td>\n",
       "    </tr>\n",
       "  </tbody>\n",
       "</table>\n",
       "</div>"
      ],
      "text/plain": [
       "          order_id  user_id eval_set  order_number  order_dow  \\\n",
       "order_id                                                        \n",
       "2539329    2539329        1    prior             1          2   \n",
       "2398795    2398795        1    prior             2          3   \n",
       "473747      473747        1    prior             3          3   \n",
       "2254736    2254736        1    prior             4          4   \n",
       "431534      431534        1    prior             5          4   \n",
       "3367565    3367565        1    prior             6          2   \n",
       "550135      550135        1    prior             7          1   \n",
       "3108588    3108588        1    prior             8          1   \n",
       "2295261    2295261        1    prior             9          1   \n",
       "2550362    2550362        1    prior            10          4   \n",
       "2168274    2168274        2    prior             1          2   \n",
       "1501582    1501582        2    prior             2          5   \n",
       "1901567    1901567        2    prior             3          1   \n",
       "738281      738281        2    prior             4          2   \n",
       "1673511    1673511        2    prior             5          3   \n",
       "\n",
       "          order_hour_of_day  days_since_prior_order  product_counts  \n",
       "order_id                                                             \n",
       "2539329                   8                     NaN               5  \n",
       "2398795                   7                    15.0               6  \n",
       "473747                   12                    21.0               5  \n",
       "2254736                   7                    29.0               5  \n",
       "431534                   15                    28.0               8  \n",
       "3367565                   7                    19.0               4  \n",
       "550135                    9                    20.0               5  \n",
       "3108588                  14                    14.0               6  \n",
       "2295261                  16                     0.0               6  \n",
       "2550362                   8                    30.0               9  \n",
       "2168274                  11                     NaN              13  \n",
       "1501582                  10                    10.0               6  \n",
       "1901567                  10                     3.0               5  \n",
       "738281                   10                     8.0              13  \n",
       "1673511                  11                     8.0              13  "
      ]
     },
     "execution_count": 3,
     "metadata": {},
     "output_type": "execute_result"
    }
   ],
   "source": [
    "prior_orders_count = priors[[\"order_id\", \"product_id\"]].groupby(\"order_id\").count()\n",
    "prior_orders_count = prior_orders_count.rename(columns={\"product_id\": \"product_counts\"})\n",
    "\n",
    "train_orders_count = op_train.drop([\"product_id\", \"order_id\"], axis=1, errors=\"ignore\")\n",
    "train_orders_count = train_orders_count.reset_index()[[\"order_id\", \"product_id\"]].groupby(\"order_id\").count()\n",
    "train_orders_count = train_orders_count.rename(columns={\"product_id\": \"product_counts\"})\n",
    "\n",
    "prior_orders_count = orders.join(prior_orders_count, how='inner')\n",
    "train_orders_count = orders.join(train_orders_count, how='inner')\n",
    "prior_orders_count.head(15)"
   ]
  },
  {
   "cell_type": "code",
   "execution_count": 13,
   "metadata": {
    "ExecuteTime": {
     "end_time": "2017-08-05T12:04:36.062850Z",
     "start_time": "2017-08-05T12:03:33.146550Z"
    },
    "hidden": true
   },
   "outputs": [
    {
     "name": "stdout",
     "output_type": "stream",
     "text": [
      "46.9945832987\n"
     ]
    },
    {
     "name": "stderr",
     "output_type": "stream",
     "text": [
      "/home/ubuntu/.venv/lib/python2.7/site-packages/ipykernel_launcher.py:51: SettingWithCopyWarning: \n",
      "A value is trying to be set on a copy of a slice from a DataFrame.\n",
      "Try using .loc[row_indexer,col_indexer] = value instead\n",
      "\n",
      "See the caveats in the documentation: http://pandas.pydata.org/pandas-docs/stable/indexing.html#indexing-view-versus-copy\n"
     ]
    }
   ],
   "source": [
    "from sklearn.linear_model import Lasso\n",
    "from sklearn.metrics import mean_squared_error\n",
    "\n",
    "\n",
    "def get_order_count(order, alpha=0.5):\n",
    "    user_id = order[\"user_id\"]\n",
    "    df = prior_orders_count[prior_orders_count[\"user_id\"] == user_id]\n",
    "    feats = [\"order_number\", \"order_dow\", \"order_hour_of_day\", \"days_since_prior_order\"]\n",
    "    X = df[feats].fillna(0).values\n",
    "    y = df[\"product_counts\"].values\n",
    "\n",
    "    # create dataset for lightgbm\n",
    "#     lgb_train = lgb.Dataset(X, y)\n",
    "#     params = {\n",
    "#         'task': 'train',\n",
    "#         'boosting_type': 'gbdt',\n",
    "#         'objective': 'regression',\n",
    "#         'metric': {'rmse'},\n",
    "#         'num_leaves': 100,\n",
    "#         'learning_rate': 0.01,\n",
    "#         'feature_fraction': 0.9,\n",
    "#         'bagging_fraction': 0.8,\n",
    "#         'bagging_freq': 5,\n",
    "#         'verbose': 0,\n",
    "#     }\n",
    "#     clf = lgb.train(params,\n",
    "#                     lgb_train,\n",
    "#                     num_boost_round=40)\n",
    "\n",
    "    xgb_params = {\n",
    "        'max_depth': 5,\n",
    "        'n_estimators': 200,\n",
    "        'learning_rate': 0.05,\n",
    "        'objective': 'reg:linear',\n",
    "        'eval_metric': 'rmse',\n",
    "        'silent': 1\n",
    "    }\n",
    "    dtrain_all = xgb.DMatrix(X, y)\n",
    "    clf = xgb.train(xgb_params, dtrain_all, num_boost_round=400)\n",
    "\n",
    "#     clf = Lasso(alpha=0.01)\n",
    "#     clf.fit(X, y)\n",
    "\n",
    "    Xpred = np.array([order[f] or 0 for f in feats]).reshape(1, -1)\n",
    "    Xpred = np.nan_to_num(Xpred, 0)\n",
    "\n",
    "    Xpred = xgb.DMatrix(Xpred)\n",
    "    return clf.predict(Xpred)[0]\n",
    "\n",
    "df = train_orders_count.head(10000)\n",
    "df[\"pred_products_count\"] = df.apply(get_order_count, axis=1)\n",
    "\n",
    "print(mean_squared_error(\n",
    "    df[\"product_counts\"],\n",
    "    df[\"pred_products_count\"]\n",
    "))"
   ]
  },
  {
   "cell_type": "code",
   "execution_count": null,
   "metadata": {
    "hidden": true
   },
   "outputs": [],
   "source": []
  }
 ],
 "metadata": {
  "hide_input": false,
  "kernelspec": {
   "display_name": "Python 2",
   "language": "python",
   "name": "python2"
  },
  "language_info": {
   "codemirror_mode": {
    "name": "ipython",
    "version": 2
   },
   "file_extension": ".py",
   "mimetype": "text/x-python",
   "name": "python",
   "nbconvert_exporter": "python",
   "pygments_lexer": "ipython2",
   "version": "2.7.12"
  },
  "toc": {
   "colors": {
    "hover_highlight": "#DAA520",
    "navigate_num": "#000000",
    "navigate_text": "#333333",
    "running_highlight": "#FF0000",
    "selected_highlight": "#FFD700",
    "sidebar_border": "#EEEEEE",
    "wrapper_background": "#FFFFFF"
   },
   "moveMenuLeft": true,
   "nav_menu": {
    "height": "156px",
    "width": "252px"
   },
   "navigate_menu": true,
   "number_sections": true,
   "sideBar": true,
   "threshold": 4,
   "toc_cell": false,
   "toc_section_display": "block",
   "toc_window_display": false,
   "widenNotebook": false
  },
  "varInspector": {
   "cols": {
    "lenName": 16,
    "lenType": 16,
    "lenVar": 40
   },
   "kernels_config": {
    "python": {
     "delete_cmd_postfix": "",
     "delete_cmd_prefix": "del ",
     "library": "var_list.py",
     "varRefreshCmd": "print(var_dic_list())"
    },
    "r": {
     "delete_cmd_postfix": ") ",
     "delete_cmd_prefix": "rm(",
     "library": "var_list.r",
     "varRefreshCmd": "cat(var_dic_list()) "
    }
   },
   "types_to_exclude": [
    "module",
    "function",
    "builtin_function_or_method",
    "instance",
    "_Feature"
   ],
   "window_display": false
  }
 },
 "nbformat": 4,
 "nbformat_minor": 2
}
